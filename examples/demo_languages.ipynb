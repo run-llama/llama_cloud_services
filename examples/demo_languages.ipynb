{
 "cells": [
  {
   "cell_type": "markdown",
   "id": "28d15ea5-a3eb-4ee5-9d91-8dbd95e53129",
   "metadata": {},
   "source": [
    "# Multi-Language Support in LlamaParse\n",
    "\n",
    "LlamaParse supports users to specify a `language` parameter before uploading documents, giving users better OCR capabilities over non-English PDFs, parsing images into more accurate representations.\n",
    "\n",
    "You can specify 80+ different languages: see this file for a full list of supported languages: https://github.com/run-llama/llama_parse/blob/main/llama_parse/base.py.\n",
    "\n",
    "This notebook shows a demo of this in action. "
   ]
  },
  {
   "cell_type": "code",
   "execution_count": null,
   "id": "15539193-2f5c-4ecf-9ca4-9aee6f888468",
   "metadata": {},
   "outputs": [],
   "source": [
    "!pip install llama-index llama-parse"
   ]
  },
  {
   "cell_type": "code",
   "execution_count": null,
   "id": "87322210-c21c-43d6-b459-2e8a828ac576",
   "metadata": {},
   "outputs": [],
   "source": [
    "# llama-parse is async-first, running the sync code in a notebook requires the use of nest_asyncio\n",
    "import nest_asyncio\n",
    "\n",
    "nest_asyncio.apply()\n",
    "\n",
    "import os\n",
    "\n",
    "# os.environ[\"LLAMA_CLOUD_API_KEY\"] = \"llx-...\""
   ]
  },
  {
   "cell_type": "markdown",
   "id": "2b5cabdf-342a-42d2-8ad4-0ba7c46cdfb9",
   "metadata": {},
   "source": [
    "## Load in a French PDF\n",
    "\n",
    "We load in the 2022 annual report from Agence France Tresor."
   ]
  },
  {
   "cell_type": "code",
   "execution_count": null,
   "id": "e81e0a08-3a99-42e6-adcc-00bb4ce1c3d4",
   "metadata": {},
   "outputs": [],
   "source": [
    "!wget \"https://www.dropbox.com/scl/fi/fxg17log5ydwoflhxmgrb/treasury_report.pdf?rlkey=mdintk0o2uuzkple26vc4v6fd&dl=1\" -O treasury_report.pdf"
   ]
  },
  {
   "cell_type": "code",
   "execution_count": null,
   "id": "ecfc578c-3c7f-4ec1-aa06-51565c28632b",
   "metadata": {},
   "outputs": [
    {
     "name": "stdout",
     "output_type": "stream",
     "text": [
      "Started parsing the file under job_id 476966e1-9e04-49e7-a5dc-952b053b8b94\n",
      "......"
     ]
    }
   ],
   "source": [
    "from llama_parse import LlamaParse\n",
    "\n",
    "parser = LlamaParse(result_type=\"text\", language=\"fr\")\n",
    "documents = parser.load_data(\"./treasury_report.pdf\")"
   ]
  },
  {
   "cell_type": "code",
   "execution_count": null,
   "id": "0c37db27-3496-4a59-918b-701c9ad7706d",
   "metadata": {},
   "outputs": [
    {
     "name": "stdout",
     "output_type": "stream",
     "text": [
      " ET GESTION DE LA DETTE DE L’ÉTAT\n",
      "             P.56      FOCUS OAT VERTES\n",
      "             P.60      CONTRÔLE DES RISQUES & POST-MARCHÉ\n",
      "         Chiffres de l’exercice 2022                                                    P.64 À 105\n",
      "             P.65      ACTIVITÉ DE L’AFT\n",
      "             P.84      RAPPORT STATISTIQUE\n",
      "         FICHES TECHNIQUES                   GLOSSAIRES                LISTE DES ABRÉVIATIONS\n",
      "             P.106                                P.118                    P.122\n",
      "                                                              AGENCE FRANCE TRÉSOR - RAPPORT D’ACTIVITÉ 2022      3\n",
      "---\n",
      "                                    Édito\n",
      "                                                   111        Avec une croissance\n",
      "                                                       de +2,5 %, la France a illustré\n",
      "                                                      une nouvelle fois sa résilience\n",
      "                                                       économique face aux chocs.\n",
      "4  AGENCE FRANCE TRÉSOR - RAPPORT D’ACTIVITÉ 2022\n",
      "---\n",
      "               L’économie française en 2022 :\n",
      " résilience face aux chocs géopolitiques\n",
      "                                       et économiques\n",
      "                                             sa résilience économique face aux           lors du dernier trimestre de 2022.\n",
      "LE DÉBUT DE                                  chocs. Cette croissance a été permise       Malgré un climat des affaires impacté\n",
      "L’ANNÉE 2022                                 grâce à une forte demande intérieure        par l’inflation, le soutien apporté\n",
      "                                             alimentée    par   le dynamisme       de    aux TPE/PME leur a permis de faire\n",
      "SEMBLAIT                                     l’investissement     et,  en  dépit   de    face aux défis énergétiques tout en\n",
      "                                             l’inflation,  d’une   résilience   de  la   préservant l’emploi.\n",
      "ENGAGÉ DANS                                  consommation des ménages sur une\n",
      "                                             grande partie de l’année.                   Afin de combattre l’inflation qui a\n",
      "UNE DYNAMIQUE                                                                            largement dépassé la cible de 2 %,\n",
      "                                             Le  taux  d’inflation    des  prix  à  la   la BCE, de concert avec les banques\n",
      "EFFICACE DE                                  consommation français est resté l’un        centrales des principales économies\n",
      "SORTIE DE CRISE                              des plus bas d’Europe avec +6,0 %           développées, a adapté sa fonction de\n",
      "                                             en 2022, s’appuyant, d’une part, sur        réaction en mettant fin aux politiques\n",
      "PORTÉE PAR                                   l’atout structurel que représente un        d’assouplissement monétaire qu’elle\n",
      "                                             mix énergétique parmi les moins             menait depuis la crise financière de\n",
      "UNE REPRISE                                  exposés à la Russie et, d’autre part,       2008. Ainsi, dès juillet 2022, et pour\n",
      "                                             sur  les politiques    proactives     du    la première fois en 10 ans, la BCE a\n",
      "ÉCONOMIQUE                                   gouvernement avec la mise en place          augmenté ses taux directeurs. Les\n",
      "                                             du bouclier tarifaire, de la remise         taux d’emprunts de l’État à 10 ans se\n",
      "INÉDITE                                      carburant et du chèque énergie.             sont ainsi progressivement éloignés\n",
      "AMORCÉE                                      Ces  dispositifs,   temporaires,     ont    de   leur  territoire    négatif   pour\n",
      "                                             été progressivement supprimés : la          atteindre 3,10 % en fin d’année.\n",
      "EN 2021.                                     remise carburant, d’abord prolongée\n",
      "                                             jusqu’à   mi-novembre        a pris   fin   Cette    décision    s’est  également\n",
      "Le déclenchement de la guerre en             en décembre 2022, tandis que le             accompagnée           de   la   fin   du\n",
      "Ukraine par la Russie dès février a          chèque énergie exceptionnel a pris          programme d’achat d’urgence (PEPP)\n",
      "rebattu les cartes de cet équilibre,         fin en mars 2023.                           mis en place pendant la pandémie,\n",
      "provoquant des bouleversements                                                           suivi de la réduction progressive de\n",
      "majeurs sur les plans géopolitiques et       Le marché du travail français a par         son bilan, à un rythme mensuel de 15\n",
      "économiques, avec le déploiement             ailleurs montré toute sa robustesse,        milliards d’euros par mois.\n",
      "de sanctions à l’encontre de la Russie       la dynamique de reprise initiée en\n",
      "et une forte poussée inflationniste.         2021 ainsi que l’effet des réformes         L’Agence France Trésor a fait face à ce\n",
      "Face à cette situation, les principales      structurelles engagées les années           contexte de grands bouleversements\n",
      "banques centrales mondiales, dont            précédentes     permettant      au  taux    géopolitiques,      économiques        et\n",
      "la  Banque     centrale    européenne        d’emploi des Français âgés de 15 à 64       financiers   en   s’appuyant     sur  ses\n",
      "(BCE), ont engagé une politique de           ans d’atteindre fin 2022 un niveau          principes de régularité, de prévisibilité\n",
      "normalisation      monétaire      rapide     de 68,1 %, un record depuis 1975.           et de transparence. Cette stratégie\n",
      "pour    lutter   contre     l’inflation.     La reprise économique de début              s’est de nouveau révélée robuste et,\n",
      "Parallèlement,      le gouvernement          d’année et les effets positifs du plan      alliée à l’engagement et à l’efficacité\n",
      "français a mis en place des mesures          France Relance ont permis la création       de ses équipes, ainsi qu’à la qualité\n",
      "(à hauteur de 43,6 milliards d’euros         de 337 100 emplois, essentiellement         de crédit de la signature de la France,\n",
      "sur l’année 2022) pour protéger les          dans le secteur salarié marchand. Ce        lui a permis d’accomplir sa mission\n",
      "entreprises et les ménages.                  dynamisme a aussi conduit à la chute        de financement de l’action publique\n",
      "                                             du taux de chômage, atteignant son          au bénéfice de tous.\n",
      "Avec une croissance de +2,5 %, la            niveau le plus bas depuis mars 2008\n",
      "France a illustré une nouvelle fois          avec 7,2 % de demandeurs d’emploi\n",
      "                                                                                         Emmanuel Moulin\n",
      "                                                                                         DIRECTEUR GÉNÉRAL DU TRÉSOR\n",
      "                                                                                         ET PRÉSIDENT DE L’AFT\n",
      "                                                            AGENCE FRANCE TRÉSOR - RAPPORT D’ACTIVITÉ 2022                     5\n",
      "---\n",
      "   du directeur général                     Le mot\n",
      "                                                        011  En 2022, le choc d’inflation\n",
      "                                                                    et la normalisation\n",
      "                                                               de la politique monétaire\n",
      "                                                              ont mis fin à une décennie\n",
      "                                                             de taux historiquement bas.\n",
      "6       AGENCE FRANCE TRÉSOR - RAPPORT D’ACTIVITÉ 2022\n",
      "---\n",
      "  MALGRÉ UN CONTEXTE DE MARCHÉ MOUVEMENTÉ ET LES MESURES D’AMPLEUR\n",
      "               PRISES POUR LIMITER L’IMPACT DE L’INFLATION SUR LES MÉNAGES ET\n",
      "  LES ENTREPRISES, LE PROGRAMME DE FINANCEMENT À MOYEN ET LONG TERME\n",
      "        EST DEMEURÉ INCHANGÉ À 260 MILLIARDS D’EUROS, STABLE PAR RAPPORT\n",
      "  À 2021, ET LA DETTE DE COURT TERME A ÉTÉ RÉDUITE DE 7 MILLIARDS D’EUROS.\n",
      "En janvier 2022, la normalisation de                                 d’obligations indexées sur l’inflation,                               la dette de court terme a été réduite\n",
      "la politique monétaire en zone euro                                  sur      lequel         a    été      enregistré             un       de    7   milliards         d’euros.        En    effet,      le\n",
      "était      une      perspective              de     moyen            supplément d’indexation supérieur                                     dynamisme des recettes fiscales et\n",
      "terme. Quelques semaines plus tard,                                  de     17    milliards        d’euros         à   celui      de       la   trésorerie          levée      lors     de    la   crise\n",
      "l’invasion de l’Ukraine par la Russie                                l’année          2021.       Il   s’est      également                sanit\n"
     ]
    }
   ],
   "source": [
    "print(documents[0].get_content()[1000:10000])"
   ]
  },
  {
   "cell_type": "markdown",
   "id": "be161577-7b1e-4710-b721-f549feb8e6d0",
   "metadata": {},
   "source": [
    "## Download Chinese PDF"
   ]
  },
  {
   "cell_type": "code",
   "execution_count": null,
   "id": "ac332ea3-cfff-4216-b292-62410a26c336",
   "metadata": {},
   "outputs": [
    {
     "name": "stdout",
     "output_type": "stream",
     "text": [
      "--2024-02-28 16:41:26--  https://www.dropbox.com/scl/fi/g5ojyzk4m44hl7neut6vc/chinese_pdf.pdf?rlkey=45reu51kjvdvic6zucr8v9sh3&dl=1\n",
      "Resolving www.dropbox.com (www.dropbox.com)... 162.125.13.18\n",
      "Connecting to www.dropbox.com (www.dropbox.com)|162.125.13.18|:443... connected.\n",
      "HTTP request sent, awaiting response... 302 Found\n",
      "Location: https://uc7a03fdb7d960dbedb23e9298ab.dl.dropboxusercontent.com/cd/0/inline/COJ69Wg2e7wH9S0ELzl4j4znoonRSQS-JJrH6mxy_vcrvY-KV7f10kMyQH6IYmtfMh_9xcDNOYnLkWkwMTYItwE1XQB5nqXbjmLJ4jLbDrMeu7-b49m796ctxevwnp7k1_U/file?dl=1# [following]\n",
      "--2024-02-28 16:41:27--  https://uc7a03fdb7d960dbedb23e9298ab.dl.dropboxusercontent.com/cd/0/inline/COJ69Wg2e7wH9S0ELzl4j4znoonRSQS-JJrH6mxy_vcrvY-KV7f10kMyQH6IYmtfMh_9xcDNOYnLkWkwMTYItwE1XQB5nqXbjmLJ4jLbDrMeu7-b49m796ctxevwnp7k1_U/file?dl=1\n",
      "Resolving uc7a03fdb7d960dbedb23e9298ab.dl.dropboxusercontent.com (uc7a03fdb7d960dbedb23e9298ab.dl.dropboxusercontent.com)... 162.125.13.15\n",
      "Connecting to uc7a03fdb7d960dbedb23e9298ab.dl.dropboxusercontent.com (uc7a03fdb7d960dbedb23e9298ab.dl.dropboxusercontent.com)|162.125.13.15|:443... connected.\n",
      "HTTP request sent, awaiting response... 302 Found\n",
      "Location: /cd/0/inline2/COKEp-d6ZqzrIIaPRlanov72wwnd7GX5eNSPnsxug0A8pOpek8hO6eFxp84cY3_NMBRsAqtX-IIVPpcfYHNoV__mpu1SsOV8wV8a68DwVKaVJRJriY_KV8lEFocvLgf7c7mhrREbIJ1UBN2fx6S_qWegwVIen1z1-pw-K7icMnA3EKJNqM9DFtqx9ct0FI4vdYGsv8ckLF26WgAhs96k1cHn-VRJle4SKstdYs8EmBxiuFLXZRCL3gljwAsLu3J6WRvis9v7VJ2zNhgrcT-ZnVujlpQGoGWLLPmREKffK608Xfz1XE35DzO28e_mm4SUPRfsP2mvIUrJUtUrhobR4siqQRGojxi0S7-da4Y7fpB4Tw/file?dl=1 [following]\n",
      "--2024-02-28 16:41:27--  https://uc7a03fdb7d960dbedb23e9298ab.dl.dropboxusercontent.com/cd/0/inline2/COKEp-d6ZqzrIIaPRlanov72wwnd7GX5eNSPnsxug0A8pOpek8hO6eFxp84cY3_NMBRsAqtX-IIVPpcfYHNoV__mpu1SsOV8wV8a68DwVKaVJRJriY_KV8lEFocvLgf7c7mhrREbIJ1UBN2fx6S_qWegwVIen1z1-pw-K7icMnA3EKJNqM9DFtqx9ct0FI4vdYGsv8ckLF26WgAhs96k1cHn-VRJle4SKstdYs8EmBxiuFLXZRCL3gljwAsLu3J6WRvis9v7VJ2zNhgrcT-ZnVujlpQGoGWLLPmREKffK608Xfz1XE35DzO28e_mm4SUPRfsP2mvIUrJUtUrhobR4siqQRGojxi0S7-da4Y7fpB4Tw/file?dl=1\n",
      "Reusing existing connection to uc7a03fdb7d960dbedb23e9298ab.dl.dropboxusercontent.com:443.\n",
      "HTTP request sent, awaiting response... 200 OK\n",
      "Length: 8074860 (7.7M) [application/binary]\n",
      "Saving to: ‘chinese_pdf.pdf’\n",
      "\n",
      "chinese_pdf.pdf     100%[===================>]   7.70M  37.9MB/s    in 0.2s    \n",
      "\n",
      "2024-02-28 16:41:28 (37.9 MB/s) - ‘chinese_pdf.pdf’ saved [8074860/8074860]\n",
      "\n"
     ]
    }
   ],
   "source": [
    "!wget \"https://www.dropbox.com/scl/fi/g5ojyzk4m44hl7neut6vc/chinese_pdf.pdf?rlkey=45reu51kjvdvic6zucr8v9sh3&dl=1\" -O chinese_pdf.pdf"
   ]
  },
  {
   "cell_type": "code",
   "execution_count": null,
   "id": "45235b17-08f0-48f1-92aa-06711225860b",
   "metadata": {},
   "outputs": [
    {
     "name": "stdout",
     "output_type": "stream",
     "text": [
      "Started parsing the file under job_id 0089f0b6-29ee-4e94-a8bf-49a137666f15\n",
      ".........."
     ]
    }
   ],
   "source": [
    "from llama_parse import LlamaParse\n",
    "\n",
    "parser = LlamaParse(result_type=\"text\", language=\"ch_sim\")\n",
    "documents = parser.load_data(\"./chinese_pdf.pdf\")"
   ]
  },
  {
   "cell_type": "code",
   "execution_count": null,
   "id": "f0d546cc-6549-4cf5-8b37-0896f4e8d43d",
   "metadata": {},
   "outputs": [
    {
     "name": "stdout",
     "output_type": "stream",
     "text": [
      "中国投资有限责任公司2022年度报告                        5\n",
      "---\n",
      "企业文化与核心价值观\n",
      "使命                           核心价值观\n",
      " 致力于实现国家外汇资金多元化投资，在可接受风险范围内  责任              合力\n",
      " 实现股东权益最大化，以服务于国家经济发展和深化金融体\n",
      " 制改革的需要                      忠于使命、勤勉尽责       立足大局、有效协同\n",
      "                             是公司遵奉的核心价值取向    是实现公司可持续发展的关键\n",
      " 愿景                          专业              进取\n",
      " 成为受人尊重的国际一流主权财富基金           坚持良好的专业精神和职业操守  求知进取、追求卓越\n",
      "                             是公司成功的基石        是公司成功和发展壮大的内驱力\n",
      "---\n",
      "01                           我们将一以贯之地践行全球发展倡议，充分维护投资东道国利益，\n",
      "                             积极投身可持续投资，助力世界经济实现更高质量、更有韧性的发展。\n",
      "   致  辞\n",
      "   3     中国投资有限责任公司2022年度报告  中国投资有限责任公司2022年度报告               4\n",
      "---\n",
      "                           “行之力则知愈进，知之深则行愈达。”站在新的历史起点上，中投公司\n",
      "                           将继续秉承精益求精、追求卓越的专业精神，与国内外合作伙伴一起深化\n",
      "                           合作，共聚力量、共迎挑战、共享成果，开启打造世界一流主权财富基金\n",
      "                           的新篇章，为助力全球经济发展作出新贡献！                                   #Ave彭纯\n",
      "                                                                                      董事长\n",
      "                                2022年，是中投公司成立十五周年。\n",
      "董事长致辞                           自2007年成立以来，中投公司坚守长期机构投资者定位，坚持国际化、市场化、专业化、负责任原则，搭\n",
      "                           建起符合大型国际投资机构特点的治理架构，形成了系统完备的投资管理体系，经受住了国际金融危机、世纪\n",
      "                           疫情等多个历史罕见的风险与挑战。如今，公司对外投资业务覆盖国际市场主要资产类别以及全球110多个国家\n",
      "                           和地区，培养了一支高素质专业化的投资管理人才队伍，搭建了互利共赢的投资合作“朋友圈”，长期投资收\n",
      "                           益超越董事会制定的考核目标，为促进国家外汇资产保值增值、服务国内国际双循环作出了积极贡献，在推动\n",
      "                           全球投资合作、助力世界经济增长中贡献了中投力量，书写了中国主权财富基金不平凡的创业发展史。\n",
      "5      中国投资有限责任公司2022年度报告  中国投资有限责任公司2022年度报告                                              6\n",
      "---\n",
      "    2022年以来，全球地缘政治风险显著攀升，产业链供应链持续调整重构，美欧央行大幅加息，国际资本                           我们守正创新，坚决践行双碳与可持续发展理念。更加包容、更加普惠、更有韧性的发展是全球\n",
      "市场剧烈震荡，MSCI全球股票指数、彭博全球债券指数一度自高点下跌超过22%、13%。面对风高浪急的国                      可持续发展的关键。我们积极履行负责任投资者理念，制定《关于践行双碳目标和可持续投资行动的意见》，\n",
      "际环境和前所未有的巨大挑战，公司保持战略定力，发挥长期机构投资者优势，不断优化资产配置和投资策                          积极开展气候变化、能源转型等主题投资。我们发布《运营碳中和行动计划》，明确时间表和路线图，全力实\n",
      "略，着力提升总组合韧性，加强重点领域风险防控，年度投资收益跑赢大市；截至2022年底，过去十年对外                        现节能减排目标。我们探索以绿色资源引领乡村发展的新方法，在四个定点帮扶县持续推进巩固脱贫成果与乡\n",
      "投资年化净收益率按美元计算为6.43%，超出十年业绩目标26个基点；自成立以来累计年化国有资本增值率达                      村振兴的有效衔接，助力民生保障与产业扶持，积极履行企业社会责任。\n",
      "到12.67%，圆满完成五年战略规划主要目标任务。                                                     面向未来，我们坚信，发展与合作是破解全球性问题的“钥匙”。中投公司将一以贯之地践行全球发展倡\n",
      "    我们矢志不渝，积极打造世界一流主权财富基金。长期资本对于促进世界经济持续发展有着不                            议，秉持互利共赢理念，以资本为纽带，促进国际产业交流合作，推动世界互联互通；充分维护投资东道国利\n",
      "可替代的作用。我们坚持国际化、市场化、专业化、负责任原则，快速恢复常态化对外交流交往，按照互利共                         益，与东道国共创价值、共享价值；积极投身可持续投资，推动被投企业履行社会责任，助力世界经济实现更\n",
      "赢原则深化与国内外各类机构合作，持续为世界经济发展提供长期资本支持。我们积极创新对外投资方式，稳                         高质量、更有韧性的发展。\n",
      "健运行多支新型双边基金，新设相关投资合作平台，深入推进中国市场价值创造，促进被投资公司拓展市场空\n",
      "间，助推国际投资与产业合作高质量发展。                                                           经济全球化的潮流不可阻挡。我们呼吁各国携起手来，做多边主义的坚定维护者，打造更加开放有序的投\n",
      "                                                                         资环境，便利资本和资源要素在全球顺畅流动。我们尊重各方的利益关切，在开放中捕捉投资机遇，以务实合\n",
      "    我们直面挑战，着力加强自主投资能力建设。面对持续动荡的国际金融市场，我们锚定配置方                            作应对共同挑战，并肩前进分享发展红利，推动世界经济平稳运行和持续增长。\n",
      "向，强化研究驱动，有序实施组合调整、策略优化，及时调整公开市场投资布局，质量并重推进非公开市场投\n",
      "资，完成另类资产投资占比50%的资产配置目标，对外投资总组合的韧性和质量不断提高。我们持续深化投资                             “行之力则知愈进，知之深则行愈达。”过去的十五年，是中投人不惧挑战、接续奋斗的十五\n",
      "管理体制机制改革，统一非公开市场投资决策制度流程，配强投资决策专职委员并设立支持团队，投资管理科                         年。  2023年是中投人落实新一轮战略规划的开局之年。上半年，在风高浪急的国际环境下，中投公司锚定战略目\n",
      "学化、专业化水平得到进一步提升。                                                         标，统筹好发展和安全，取得了良好业绩，实现了良好开局。近期，公司部分董事更换，我们对离任董事在指导和支\n",
      "                                                                         持公司完善公司治理、深化投资管理体制机制改革、应对国际市场风险挑战等方面所作的贡献表示衷心感谢，对新\n",
      "    我们勇担使命，坚定走好中国特色金融发展之路。面对新征程新要求，我们坚持发挥“积极股                            任董事表示热烈欢迎。站在新的历史起点上，中投公司将完整、准确、全面贯彻新发展理念，积极助力构建新发展格\n",
      "东”作用，督促控参股金融企业优化产品服务、加大资源倾斜力度，全力支持稳经济稳增长。我们积极创新完                         局，牢牢把握高质量发展首要任务，继续秉承精益求精、追求卓越的专业精神，与国内外合作伙伴一起深化合作，共\n",
      "善“汇金模式”，推动优化国有金融资本布局，以市场化方式参与问题金融机构救助，助力金融市场稳定健康                         聚力量、共迎挑战、共享成果，开启打造世界一流主权财富基金的新篇章，为助力全球经济发展作出新贡献！\n",
      "发展。我们主动适应新形势新要求，围绕国有金融资本管理体系建设等重大课题深入研究，压实派出董事自主\n",
      "履职责任，不断提升机构化履职能力。\n",
      "    我们坚守底线，持续夯实全面风险管理体系。面对风高浪急的国际环境，我们优化风险管理委员\n",
      "会设置，修订全面风险管理基本制度，增加风险类别的覆盖度，全面提升风险预见、应对、处置水平。在对外投\n",
      "资方面，我们严守法律合规底线，健全地缘政治、气候变化等非传统风险防控机制，突出抓好流动性管理，对外\n",
      "投资总组合风险保持在董事会规定的容忍度内。在国有金融资本受托管理方面，我们建立健全控参股金融企业风\n",
      "险监测体系，全面开展多维度风险画像，推动控参股金融企业风险减存量、控增量、防变量取得积极成效。\n",
      "7                                                    中国投资有限责任公司2022年度报告  中国投资有限责任公司2022年度报告                                     8\n",
      "---\n",
      "02                                 中投公司的组建宗旨是实现国家外汇资金多元化投资，在可接受风\n",
      "                                   险范围内实现股东权益最大化，以服务于国家宏观经济发展和深化\n",
      "   公  司  介  绍                      金融体制改革的需要。\n",
      "   9           中国投资有限责任公司2022年度报告  中国投资有限责任公司2022年度报告             10\n",
      "---\n",
      "公司概况中国投资有限责任公司（以下简称“中投公司”）依照《中华人民共和国公司法》（以下简称“《公司                           公司治理 中投公司按照《公司法》及《中国投资有限责任公司章程》（以下简称“《中投公司章程》”）中的有关规\n",
      "法》”）于2007年9月成立，总部设在北京。中投公司的初始资本金为2000亿美元，由中国财政部发行1.55万                      定，设立了董事会、监事会和执行委员会（以下简称“执委会”），三者之间权责明确、独立履职、有效制衡。\n",
      "亿元人民币特别国债募集。截至2022年底，公司总资产达1.24万亿美元。                                             2022年，中投公司健全完善董事会、监事会运行机制，强化下设专门委员会的职能发挥，持续提升公司治\n",
      "    中投公司的组建宗旨是实现国家外汇资金多元化投资，在可接受风险范围内实现股东权益最大化，以服务于                         理效能。公司根据业务发展需要，优化调整投资管理架构，完善投资决策和投后管理制度机制，深化全面风险管\n",
      "国家宏观经济发展和深化金融体制改革的需要。                                                       理体系建设，全面提升机构化投资能力。\n",
      "    中投公司开展境外投资业务与境内金融机构股权管理工作。其中，境外投资业务由下设子公司⸺中投国际\n",
      "有限责任公司（以下简称“中投国际”）和中投海外直接投资有限责任公司（以下简称“中投海外”）承担，业\n",
      "务范围包括公开市场股票和债券投资，对冲基金和多资产，泛行业私募股权和私募信用投资，房地产、基础设\n",
      "施、资源商品、农业等领域的基金投资与直接投资，以及多双边基金管理等。                                          组织架构图\n",
      "    中央汇金投资有限责任公司（以下简称“中央汇金”）作为中投公司的子公司，根据国务院授权，对国有重\n",
      "点金融企业进行股权投资，以出资额为限代表国家依法对国有重点金融企业行使出资人权利和履行出资人义务。                                                               董事会                                 监事会\n",
      "中央汇金不开展商业性经营活动，不干预其控股的国有重点金融企业的日常经营活动。                                               提名与\n",
      "                                                                                    薪酬委员会\n",
      "    中投国际和中投海外开展的境外业务与中央汇金开展的境内业务之间实行严格的“防火墙”政策和措施。\n",
      "                                                                                     战略与\n",
      "                                                                                    社会责任\n",
      "                                                                                     委员会\n",
      "                                                                                    风险管理                          执行               国际咨询         监督       审计\n",
      "                                                                                     委员会                         委员会                委员会        委员会       委员会\n",
      "                                                                                    境外投资                       管理与支持                     境内股权\n",
      "                                                                                    业务部门                          部门                     管理部门\n",
      "11                                                      中国投资有限责任公司2022年度报告  中国投资有限责任公司2022年度报告                                                                12\n",
      "---\n",
      "董事会                                                                                                         沈如军\n",
      "                                                                                                            党委委员、执行董事、副总经理\n",
      "    中投公司董事会行使《公司法》和《中投公司章程》中规定的有限责任公司董事会的职权，主要包括：审核                                                         1964年出生，管理学博士，高级会计师。历任中国工商银行计划财务部副总经理、\n",
      "和批准公司的发展战略、经营方针和投资计划；确定公司需向股东报告的重大事项；制定公司年度预决算方案；                                                           北京市分行副行长、财务会计部总经理、山东省分行行长，交通银行执行董事、副\n",
      "任免公司高级管理人员；决定或授权批准设立内部管理机构等。                                                                                行长。现任本公司党委委员、执行董事、副总经理。\n",
      "    董事会由执行董事、非执行董事、独立董事以及职工董事构成。                                                                            丛亮\n",
      "    2022年，面对复杂严峻的国际经济形势，董事会加强对公司重大经营管理事项的指导和督促，及时听取投                                                        非执行董事\n",
      "资形势、经营管理、风险防控等汇报，认真审议经营计划、财务预算和决算、业绩考核等重要议题，深入谋划中                                                           1971年出生，经济学博士。历任国家发展和改革委员会国民经济综合司副司长、司\n",
      "投公司新一轮战略规划，明确发展目标、基本原则和重点举措，为公司下一阶段改革发展描绘新的蓝图。董事会                                                           长，国家发展和改革委员会秘书长、新闻发言人，国家发展和改革委员会副主任，\n",
      "专门委员会根据授权，重点关注关系企业长远发展的重大事项，为董事会出谋划策，推动公司高质量发展迈上新                                                           国家粮食和物资储备局局长。现任国家发展和改革委员会副主任，并兼任本公司非\n",
      "台阶。                                                                                                         执行董事。\n",
      "                                                                                                            许宏才\n",
      "                                                                                                            非执行董事\n",
      "董事会成员                                                                                                       1963年出生，经济学学士。历任财政部预算司副司长、司长，财政部部长助理，财\n",
      "                                                                                                            政部副部长。现任全国人大财政经济委员会副主任委员、全国人大常委会预算工作\n",
      "                            彭 纯                                    \n"
     ]
    }
   ],
   "source": [
    "print(documents[0].get_content()[1000:10000])"
   ]
  },
  {
   "cell_type": "code",
   "execution_count": null,
   "id": "640f0679-7f7e-4b0a-a46d-b099ae382fe2",
   "metadata": {},
   "outputs": [],
   "source": [
    "# download another copy with a different name to avoid hitting pdf cache\n",
    "!wget \"https://www.dropbox.com/scl/fi/g5ojyzk4m44hl7neut6vc/chinese_pdf.pdf?rlkey=45reu51kjvdvic6zucr8v9sh3&dl=1\" -O chinese_pdf2.pdf"
   ]
  },
  {
   "cell_type": "code",
   "execution_count": null,
   "id": "bfcacf90-ca67-4bfd-b023-be0af2cb18c5",
   "metadata": {},
   "outputs": [
    {
     "name": "stdout",
     "output_type": "stream",
     "text": [
      "Started parsing the file under job_id 99538f59-24f7-4f1e-ab27-4081933fa5ee\n"
     ]
    }
   ],
   "source": [
    "from llama_parse import LlamaParse\n",
    "\n",
    "base_parser = LlamaParse(result_type=\"text\", language=\"en\")\n",
    "base_documents = parser.load_data(\"./chinese_pdf2.pdf\")"
   ]
  },
  {
   "cell_type": "code",
   "execution_count": null,
   "id": "b264ed4e-647a-4f51-9f79-fdf82b76762a",
   "metadata": {},
   "outputs": [],
   "source": [
    "print(base_documents[0].get_content()[1000:10000])"
   ]
  }
 ],
 "metadata": {
  "kernelspec": {
   "display_name": "llama_parse",
   "language": "python",
   "name": "llama_parse"
  },
  "language_info": {
   "codemirror_mode": {
    "name": "ipython",
    "version": 3
   },
   "file_extension": ".py",
   "mimetype": "text/x-python",
   "name": "python",
   "nbconvert_exporter": "python",
   "pygments_lexer": "ipython3"
  }
 },
 "nbformat": 4,
 "nbformat_minor": 5
}
