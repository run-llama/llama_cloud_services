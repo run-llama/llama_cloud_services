{
 "cells": [
  {
   "cell_type": "markdown",
   "id": "93ae9bad-b8cc-43de-ba7d-387e0155674c",
   "metadata": {},
   "source": [
    "# Building a Natively Multimodal RAG Pipeline (over a Slide Deck)\n",
    "\n",
    "<a href=\"https://colab.research.google.com/github/run-llama/llama_parse/blob/main/examples/multimodal/multimodal_rag_slide_deck.ipynb\" target=\"_parent\"><img src=\"https://colab.research.google.com/assets/colab-badge.svg\" alt=\"Open In Colab\"/></a>\n",
    "\n",
    "In this cookbook we show you how to build a multimodal RAG pipeline over a slide deck, with text, tables, images, diagrams, and complex layouts.\n",
    "\n",
    "A gap of text-based RAG is that they struggle with purely text-based representations of complex documents. For instance, if a page contains a lot of images and diagrams, a text parser would need to rely on raw OCR to extract out text. You can also use a multimodal model (e.g. gpt-4o and up) to do text extraction, but this is inherently a lossy conversion.\n",
    "\n",
    "Instead a **native multimodal pipeline** stores both a text and image representation of a document chunk. They are indexed via embeddings (text or image), and during synthesis both text and image are directly fed to the multimodal model for synthesis.\n",
    "\n",
    "This can have the following advantages:\n",
    "- **Robustness**: This solution is more robust than a pure text or even a pure image-based approach. In a pure text RAG approach, the parsing piece can be lossy. In a pure image-based approach, multimodal OCR is not perfect and may lose out against text parsing for text-heavy documents.\n",
    "- **Cost Optimization**: You may choose to dynamically include text-only, or text + image depending on the content of the page.\n",
    "\n",
    "![mm_rag_diagram](./multimodal_rag_slide_deck_img.png)"
   ]
  },
  {
   "cell_type": "markdown",
   "id": "54e8d9a7-5036-4d32-818f-00b2e888521f",
   "metadata": {},
   "source": [
    "## Setup"
   ]
  },
  {
   "cell_type": "code",
   "execution_count": 1,
   "id": "70ccdd53-e68a-4199-aacb-cfe71ad1ff0b",
   "metadata": {},
   "outputs": [],
   "source": [
    "import nest_asyncio\n",
    "\n",
    "nest_asyncio.apply()"
   ]
  },
  {
   "cell_type": "markdown",
   "id": "225c5556-a789-4386-a1ee-cce01dbeb6cf",
   "metadata": {},
   "source": [
    "### Setup Observability\n",
    "\n",
    "We setup an integration with LlamaTrace (integration with Arize).\n",
    "\n",
    "If you haven't already done so, make sure to create an account here: https://llamatrace.com/login. Then create an API key and put it in the `PHOENIX_API_KEY` variable below."
   ]
  },
  {
   "cell_type": "code",
   "execution_count": null,
   "id": "0eabee1f-290a-4c85-b362-54f45c8559ae",
   "metadata": {},
   "outputs": [],
   "source": [
    "# !pip install -U llama-index-callbacks-arize-phoenix"
   ]
  },
  {
   "cell_type": "code",
   "execution_count": 2,
   "id": "4aff51b5",
   "metadata": {},
   "outputs": [
    {
     "data": {
      "text/plain": [
       "True"
      ]
     },
     "execution_count": 2,
     "metadata": {},
     "output_type": "execute_result"
    }
   ],
   "source": [
    "import os\n",
    "import openai\n",
    "\n",
    "# Configure OpenAI API key\n",
    "os.environ[\"OPENAI_API_KEY\"] = \"your-api-key-here\"  # Replace with actual API key\n",
    "openai.api_key = os.getenv(\"OPENAI_API_KEY\")\n",
    "\n",
    "# Or\n",
    "\n",
    "from dotenv import load_dotenv\n",
    "load_dotenv()"
   ]
  },
  {
   "cell_type": "code",
   "execution_count": 3,
   "id": "aaeb245c-730b-4c34-ad68-708fdde0e6cb",
   "metadata": {},
   "outputs": [],
   "source": [
    "# setup Arize Phoenix for logging/observability\n",
    "import llama_index.core\n",
    "import os\n",
    "\n",
    "PHOENIX_API_KEY = \"<PHOENIX_API_KEY>\"\n",
    "os.environ[\"OTEL_EXPORTER_OTLP_HEADERS\"] = f\"api_key={PHOENIX_API_KEY}\"\n",
    "llama_index.core.set_global_handler(\n",
    "    \"arize_phoenix\", endpoint=\"https://llamatrace.com/v1/traces\"\n",
    ")"
   ]
  },
  {
   "cell_type": "markdown",
   "id": "fbb362db-b1b1-4eea-be1a-b1f78b0779d7",
   "metadata": {},
   "source": [
    "### Load Data\n",
    "\n",
    "Here we load the [Conoco Phillips 2023 investor meeting slide deck](https://static.conocophillips.com/files/2023-conocophillips-aim-presentation.pdf)."
   ]
  },
  {
   "cell_type": "code",
   "execution_count": 6,
   "id": "8bce3407-a7d2-47e8-9eaf-ab297a94750c",
   "metadata": {},
   "outputs": [
    {
     "name": "stdout",
     "output_type": "stream",
     "text": [
      "File downloaded successfully using curl: data_rag/conocophillips.pdf\n"
     ]
    }
   ],
   "source": [
    "import os\n",
    "import subprocess\n",
    "import requests\n",
    "\n",
    "def download_file(url, output_path):\n",
    "    try:\n",
    "        # Try curl first\n",
    "        subprocess.run([\"curl\", \"-L\", url, \"-o\", output_path], check=True)\n",
    "        print(f\"File downloaded successfully using curl: {output_path}\")\n",
    "    except subprocess.CalledProcessError:\n",
    "        print(\"curl is not available. Trying with requests...\")\n",
    "        try:\n",
    "            # If curl fails, use requests\n",
    "            response = requests.get(url)\n",
    "            response.raise_for_status()  # Raises an HTTPError if the HTTP request returned an unsuccessful status code\n",
    "            with open(output_path, 'wb') as f:\n",
    "                f.write(response.content)\n",
    "            print(f\"File downloaded successfully using requests: {output_path}\")\n",
    "        except Exception as e:\n",
    "            print(f\"Error downloading file: {e}\")\n",
    "            raise\n",
    "\n",
    "# Create necessary directories and download the file\n",
    "os.makedirs(\"data\", exist_ok=True)\n",
    "os.makedirs(\"data_images\", exist_ok=True)\n",
    "download_file(\"https://static.conocophillips.com/files/2023-conocophillips-aim-presentation.pdf\", \"data/conocophillips.pdf\")"
   ]
  },
  {
   "cell_type": "markdown",
   "id": "246ba6b0-51af-42f9-b1b2-8d3e721ef782",
   "metadata": {},
   "source": [
    "### Model Setup\n",
    "\n",
    "Setup models that will be used for downstream orchestration."
   ]
  },
  {
   "cell_type": "code",
   "execution_count": 7,
   "id": "16e2071d-bbc2-4707-8ae7-cb4e1fecafd3",
   "metadata": {},
   "outputs": [],
   "source": [
    "from llama_index.core import Settings\n",
    "from llama_index.llms.openai import OpenAI\n",
    "from llama_index.embeddings.openai import OpenAIEmbedding\n",
    "\n",
    "embed_model = OpenAIEmbedding(model=\"text-embedding-3-large\")\n",
    "llm = OpenAI(model=\"gpt-4o\")\n",
    "\n",
    "Settings.embed_model = embed_model\n",
    "Settings.llm = llm"
   ]
  },
  {
   "cell_type": "markdown",
   "id": "e3f6416f-f580-4722-aaa9-7f3500408547",
   "metadata": {},
   "source": [
    "## Use LlamaParse to Parse Text and Images\n",
    "\n",
    "In this example, use LlamaParse to parse both the text and images from the document.\n",
    "\n",
    "We parse out the text in two ways: \n",
    "- in regular `text` mode using our default text layout algorithm\n",
    "- in `markdown` mode using GPT-4o (`gpt4o_mode=True`). This also allows us to capture page screenshots"
   ]
  },
  {
   "cell_type": "code",
   "execution_count": 8,
   "id": "570089e5-238a-4dcc-af65-96e7393c2b4d",
   "metadata": {},
   "outputs": [],
   "source": [
    "from llama_parse import LlamaParse\n",
    "\n",
    "\n",
    "parser_text = LlamaParse(result_type=\"text\")\n",
    "parser_gpt4o = LlamaParse(result_type=\"markdown\", gpt4o_mode=True)"
   ]
  },
  {
   "cell_type": "code",
   "execution_count": 10,
   "id": "ef82a985-4088-4bb7-9a21-0318e1b9207d",
   "metadata": {},
   "outputs": [
    {
     "name": "stdout",
     "output_type": "stream",
     "text": [
      "Parsing text...\n"
     ]
    },
    {
     "name": "stderr",
     "output_type": "stream",
     "text": [
      "INFO:httpx:HTTP Request: POST https://api.cloud.llamaindex.ai/api/parsing/upload \"HTTP/1.1 200 OK\"\n"
     ]
    },
    {
     "name": "stdout",
     "output_type": "stream",
     "text": [
      "Started parsing the file under job_id a140e3fd-ebda-4ca7-9bfe-212a5152a506\n"
     ]
    },
    {
     "name": "stderr",
     "output_type": "stream",
     "text": [
      "INFO:httpx:HTTP Request: GET https://api.cloud.llamaindex.ai/api/parsing/job/a140e3fd-ebda-4ca7-9bfe-212a5152a506 \"HTTP/1.1 200 OK\"\n",
      "INFO:httpx:HTTP Request: GET https://api.cloud.llamaindex.ai/api/parsing/job/a140e3fd-ebda-4ca7-9bfe-212a5152a506 \"HTTP/1.1 200 OK\"\n",
      "INFO:httpx:HTTP Request: GET https://api.cloud.llamaindex.ai/api/parsing/job/a140e3fd-ebda-4ca7-9bfe-212a5152a506 \"HTTP/1.1 200 OK\"\n",
      "INFO:httpx:HTTP Request: GET https://api.cloud.llamaindex.ai/api/parsing/job/a140e3fd-ebda-4ca7-9bfe-212a5152a506 \"HTTP/1.1 200 OK\"\n",
      "INFO:httpx:HTTP Request: GET https://api.cloud.llamaindex.ai/api/parsing/job/a140e3fd-ebda-4ca7-9bfe-212a5152a506 \"HTTP/1.1 200 OK\"\n",
      "INFO:httpx:HTTP Request: GET https://api.cloud.llamaindex.ai/api/parsing/job/a140e3fd-ebda-4ca7-9bfe-212a5152a506 \"HTTP/1.1 200 OK\"\n",
      "INFO:httpx:HTTP Request: GET https://api.cloud.llamaindex.ai/api/parsing/job/a140e3fd-ebda-4ca7-9bfe-212a5152a506 \"HTTP/1.1 200 OK\"\n",
      "INFO:httpx:HTTP Request: GET https://api.cloud.llamaindex.ai/api/parsing/job/a140e3fd-ebda-4ca7-9bfe-212a5152a506 \"HTTP/1.1 200 OK\"\n",
      "INFO:httpx:HTTP Request: GET https://api.cloud.llamaindex.ai/api/parsing/job/a140e3fd-ebda-4ca7-9bfe-212a5152a506 \"HTTP/1.1 200 OK\"\n",
      "INFO:httpx:HTTP Request: GET https://api.cloud.llamaindex.ai/api/parsing/job/a140e3fd-ebda-4ca7-9bfe-212a5152a506 \"HTTP/1.1 200 OK\"\n"
     ]
    },
    {
     "name": "stdout",
     "output_type": "stream",
     "text": [
      "."
     ]
    },
    {
     "name": "stderr",
     "output_type": "stream",
     "text": [
      "INFO:httpx:HTTP Request: GET https://api.cloud.llamaindex.ai/api/parsing/job/a140e3fd-ebda-4ca7-9bfe-212a5152a506 \"HTTP/1.1 200 OK\"\n",
      "INFO:httpx:HTTP Request: GET https://api.cloud.llamaindex.ai/api/parsing/job/a140e3fd-ebda-4ca7-9bfe-212a5152a506 \"HTTP/1.1 200 OK\"\n",
      "INFO:httpx:HTTP Request: GET https://api.cloud.llamaindex.ai/api/parsing/job/a140e3fd-ebda-4ca7-9bfe-212a5152a506 \"HTTP/1.1 200 OK\"\n",
      "INFO:httpx:HTTP Request: GET https://api.cloud.llamaindex.ai/api/parsing/job/a140e3fd-ebda-4ca7-9bfe-212a5152a506 \"HTTP/1.1 200 OK\"\n",
      "INFO:httpx:HTTP Request: GET https://api.cloud.llamaindex.ai/api/parsing/job/a140e3fd-ebda-4ca7-9bfe-212a5152a506 \"HTTP/1.1 200 OK\"\n",
      "INFO:httpx:HTTP Request: GET https://api.cloud.llamaindex.ai/api/parsing/job/a140e3fd-ebda-4ca7-9bfe-212a5152a506 \"HTTP/1.1 200 OK\"\n",
      "INFO:httpx:HTTP Request: GET https://api.cloud.llamaindex.ai/api/parsing/job/a140e3fd-ebda-4ca7-9bfe-212a5152a506 \"HTTP/1.1 200 OK\"\n",
      "INFO:httpx:HTTP Request: GET https://api.cloud.llamaindex.ai/api/parsing/job/a140e3fd-ebda-4ca7-9bfe-212a5152a506 \"HTTP/1.1 200 OK\"\n",
      "INFO:httpx:HTTP Request: GET https://api.cloud.llamaindex.ai/api/parsing/job/a140e3fd-ebda-4ca7-9bfe-212a5152a506 \"HTTP/1.1 200 OK\"\n",
      "INFO:httpx:HTTP Request: GET https://api.cloud.llamaindex.ai/api/parsing/job/a140e3fd-ebda-4ca7-9bfe-212a5152a506 \"HTTP/1.1 200 OK\"\n"
     ]
    },
    {
     "name": "stdout",
     "output_type": "stream",
     "text": [
      "."
     ]
    },
    {
     "name": "stderr",
     "output_type": "stream",
     "text": [
      "INFO:httpx:HTTP Request: GET https://api.cloud.llamaindex.ai/api/parsing/job/a140e3fd-ebda-4ca7-9bfe-212a5152a506 \"HTTP/1.1 200 OK\"\n",
      "INFO:httpx:HTTP Request: GET https://api.cloud.llamaindex.ai/api/parsing/job/a140e3fd-ebda-4ca7-9bfe-212a5152a506 \"HTTP/1.1 200 OK\"\n",
      "INFO:httpx:HTTP Request: GET https://api.cloud.llamaindex.ai/api/parsing/job/a140e3fd-ebda-4ca7-9bfe-212a5152a506 \"HTTP/1.1 200 OK\"\n",
      "INFO:httpx:HTTP Request: GET https://api.cloud.llamaindex.ai/api/parsing/job/a140e3fd-ebda-4ca7-9bfe-212a5152a506 \"HTTP/1.1 200 OK\"\n",
      "INFO:httpx:HTTP Request: GET https://api.cloud.llamaindex.ai/api/parsing/job/a140e3fd-ebda-4ca7-9bfe-212a5152a506 \"HTTP/1.1 200 OK\"\n",
      "INFO:httpx:HTTP Request: GET https://api.cloud.llamaindex.ai/api/parsing/job/a140e3fd-ebda-4ca7-9bfe-212a5152a506 \"HTTP/1.1 200 OK\"\n",
      "INFO:httpx:HTTP Request: GET https://api.cloud.llamaindex.ai/api/parsing/job/a140e3fd-ebda-4ca7-9bfe-212a5152a506 \"HTTP/1.1 200 OK\"\n",
      "INFO:httpx:HTTP Request: GET https://api.cloud.llamaindex.ai/api/parsing/job/a140e3fd-ebda-4ca7-9bfe-212a5152a506 \"HTTP/1.1 200 OK\"\n",
      "INFO:httpx:HTTP Request: GET https://api.cloud.llamaindex.ai/api/parsing/job/a140e3fd-ebda-4ca7-9bfe-212a5152a506 \"HTTP/1.1 200 OK\"\n",
      "INFO:httpx:HTTP Request: GET https://api.cloud.llamaindex.ai/api/parsing/job/a140e3fd-ebda-4ca7-9bfe-212a5152a506 \"HTTP/1.1 200 OK\"\n"
     ]
    },
    {
     "name": "stdout",
     "output_type": "stream",
     "text": [
      "."
     ]
    },
    {
     "name": "stderr",
     "output_type": "stream",
     "text": [
      "INFO:httpx:HTTP Request: GET https://api.cloud.llamaindex.ai/api/parsing/job/a140e3fd-ebda-4ca7-9bfe-212a5152a506 \"HTTP/1.1 200 OK\"\n",
      "INFO:httpx:HTTP Request: GET https://api.cloud.llamaindex.ai/api/parsing/job/a140e3fd-ebda-4ca7-9bfe-212a5152a506 \"HTTP/1.1 200 OK\"\n",
      "INFO:httpx:HTTP Request: GET https://api.cloud.llamaindex.ai/api/parsing/job/a140e3fd-ebda-4ca7-9bfe-212a5152a506/result/text \"HTTP/1.1 200 OK\"\n"
     ]
    },
    {
     "name": "stdout",
     "output_type": "stream",
     "text": [
      "Parsing PDF file...\n"
     ]
    },
    {
     "name": "stderr",
     "output_type": "stream",
     "text": [
      "INFO:httpx:HTTP Request: POST https://api.cloud.llamaindex.ai/api/parsing/upload \"HTTP/1.1 200 OK\"\n"
     ]
    },
    {
     "name": "stdout",
     "output_type": "stream",
     "text": [
      "Started parsing the file under job_id a0af2de7-8064-4372-9094-0c91b54ed38f\n"
     ]
    },
    {
     "name": "stderr",
     "output_type": "stream",
     "text": [
      "INFO:httpx:HTTP Request: GET https://api.cloud.llamaindex.ai/api/parsing/job/a0af2de7-8064-4372-9094-0c91b54ed38f \"HTTP/1.1 200 OK\"\n",
      "INFO:httpx:HTTP Request: GET https://api.cloud.llamaindex.ai/api/parsing/job/a0af2de7-8064-4372-9094-0c91b54ed38f \"HTTP/1.1 200 OK\"\n",
      "INFO:httpx:HTTP Request: GET https://api.cloud.llamaindex.ai/api/parsing/job/a0af2de7-8064-4372-9094-0c91b54ed38f \"HTTP/1.1 200 OK\"\n",
      "INFO:httpx:HTTP Request: GET https://api.cloud.llamaindex.ai/api/parsing/job/a0af2de7-8064-4372-9094-0c91b54ed38f \"HTTP/1.1 200 OK\"\n",
      "INFO:httpx:HTTP Request: GET https://api.cloud.llamaindex.ai/api/parsing/job/a0af2de7-8064-4372-9094-0c91b54ed38f \"HTTP/1.1 200 OK\"\n",
      "INFO:httpx:HTTP Request: GET https://api.cloud.llamaindex.ai/api/parsing/job/a0af2de7-8064-4372-9094-0c91b54ed38f \"HTTP/1.1 200 OK\"\n",
      "INFO:httpx:HTTP Request: GET https://api.cloud.llamaindex.ai/api/parsing/job/a0af2de7-8064-4372-9094-0c91b54ed38f/result/json \"HTTP/1.1 200 OK\"\n"
     ]
    }
   ],
   "source": [
    "print(f\"Parsing text...\")\n",
    "docs_text = parser_text.load_data(\"data/conocophillips.pdf\")\n",
    "print(f\"Parsing PDF file...\")\n",
    "md_json_objs = parser_gpt4o.get_json_result(\"data/conocophillips.pdf\")\n",
    "md_json_list = md_json_objs[0][\"pages\"]"
   ]
  },
  {
   "cell_type": "code",
   "execution_count": 65,
   "id": "7506b603-c01f-45de-b354-4a0728dde03c",
   "metadata": {},
   "outputs": [
    {
     "name": "stdout",
     "output_type": "stream",
     "text": [
      "ConocoPhillips\n",
      "                2023 Analyst & Investor Meeting\n"
     ]
    }
   ],
   "source": [
    "print(docs_text[0].get_content())"
   ]
  },
  {
   "cell_type": "code",
   "execution_count": 66,
   "id": "5318fb7b-fe6a-4a8a-b82e-4ed7b4512c37",
   "metadata": {},
   "outputs": [
    {
     "name": "stdout",
     "output_type": "stream",
     "text": [
      "# Commitment to Disciplined Reinvestment Rate\n",
      "\n",
      "| | Industry Growth Focus | ConocoPhillips Strategy Reset | Disciplined Reinvestment Rate is the Foundation for Superior Returns on and of Capital, while Driving Durable CFO Growth |\n",
      "|---|---|---|---|\n",
      "| | >100% Reinvestment Rate | <60% Reinvestment Rate | ~50% 10-Year Reinvestment Rate <br> ~6% CFO CAGR 2024-2032 <br> at $60/BBL WTI Mid-Cycle Planning Price |\n",
      "\n",
      "| ConocoPhillips Average Annual Reinvestment Rate (%) | 2012-2016 | 2017-2022 | 2023E | 2024-2028 | 2029-2032 |\n",
      "|---|---|---|---|---|---|\n",
      "| 100% | | | | | |\n",
      "| 75% | | | | | |\n",
      "| 50% | | | | | |\n",
      "| 25% | | | | | |\n",
      "| 0% | | | | | |\n",
      "\n",
      "| | | | | | |\n",
      "|---|---|---|---|---|---|\n",
      "| | ~ $75/BBL WTI Average | ~ $63/BBL WTI Average | at $80/BBL WTI | at $60/BBL WTI <br> at $80/BBL WTI | at $60/BBL WTI <br> at $80/BBL WTI |\n",
      "\n",
      "*Reinvestment rate and cash from operations (CFO) are non-GAAP measures. Definitions and reconciliations are included in the Appendix.*\n"
     ]
    }
   ],
   "source": [
    "print(md_json_list[10][\"md\"])"
   ]
  },
  {
   "cell_type": "code",
   "execution_count": 67,
   "id": "7a46a73e-c6e2-4b0b-bd10-31b0d3e4b70f",
   "metadata": {},
   "outputs": [
    {
     "name": "stdout",
     "output_type": "stream",
     "text": [
      "dict_keys(['page', 'md', 'images', 'items'])\n"
     ]
    }
   ],
   "source": [
    "print(md_json_list[1].keys())"
   ]
  },
  {
   "cell_type": "code",
   "execution_count": 73,
   "id": "eeadb16c-97eb-4622-9551-b34d7f90d72f",
   "metadata": {},
   "outputs": [
    {
     "name": "stdout",
     "output_type": "stream",
     "text": [
      "> Image for page 1: [{'name': 'page-0.jpg', 'height': 0, 'width': 0, 'x': 0, 'y': 0, 'type': 'full_page_screenshot', 'path': 'data_images_rag\\\\a0af2de7-8064-4372-9094-0c91b54ed38f-page-0.jpg', 'job_id': 'a0af2de7-8064-4372-9094-0c91b54ed38f', 'original_pdf_path': 'data_rag/conocophillips.pdf', 'page_number': 1}]\n"
     ]
    },
    {
     "name": "stderr",
     "output_type": "stream",
     "text": [
      "INFO:httpx:HTTP Request: GET https://api.cloud.llamaindex.ai/api/parsing/job/a0af2de7-8064-4372-9094-0c91b54ed38f/result/image/page-0.jpg \"HTTP/1.1 200 OK\"\n"
     ]
    },
    {
     "name": "stdout",
     "output_type": "stream",
     "text": [
      "> Image for page 2: [{'name': 'page-1.jpg', 'height': 0, 'width': 0, 'x': 0, 'y': 0, 'type': 'full_page_screenshot', 'path': 'data_images_rag\\\\a0af2de7-8064-4372-9094-0c91b54ed38f-page-1.jpg', 'job_id': 'a0af2de7-8064-4372-9094-0c91b54ed38f', 'original_pdf_path': 'data_rag/conocophillips.pdf', 'page_number': 2}]\n"
     ]
    },
    {
     "name": "stderr",
     "output_type": "stream",
     "text": [
      "INFO:httpx:HTTP Request: GET https://api.cloud.llamaindex.ai/api/parsing/job/a0af2de7-8064-4372-9094-0c91b54ed38f/result/image/page-1.jpg \"HTTP/1.1 200 OK\"\n"
     ]
    },
    {
     "name": "stdout",
     "output_type": "stream",
     "text": [
      "> Image for page 3: [{'name': 'page-2.jpg', 'height': 0, 'width': 0, 'x': 0, 'y': 0, 'type': 'full_page_screenshot', 'path': 'data_images_rag\\\\a0af2de7-8064-4372-9094-0c91b54ed38f-page-2.jpg', 'job_id': 'a0af2de7-8064-4372-9094-0c91b54ed38f', 'original_pdf_path': 'data_rag/conocophillips.pdf', 'page_number': 3}]\n"
     ]
    },
    {
     "name": "stderr",
     "output_type": "stream",
     "text": [
      "INFO:httpx:HTTP Request: GET https://api.cloud.llamaindex.ai/api/parsing/job/a0af2de7-8064-4372-9094-0c91b54ed38f/result/image/page-2.jpg \"HTTP/1.1 200 OK\"\n"
     ]
    },
    {
     "name": "stdout",
     "output_type": "stream",
     "text": [
      "> Image for page 4: [{'name': 'page-3.jpg', 'height': 0, 'width': 0, 'x': 0, 'y': 0, 'type': 'full_page_screenshot', 'path': 'data_images_rag\\\\a0af2de7-8064-4372-9094-0c91b54ed38f-page-3.jpg', 'job_id': 'a0af2de7-8064-4372-9094-0c91b54ed38f', 'original_pdf_path': 'data_rag/conocophillips.pdf', 'page_number': 4}]\n"
     ]
    },
    {
     "name": "stderr",
     "output_type": "stream",
     "text": [
      "INFO:httpx:HTTP Request: GET https://api.cloud.llamaindex.ai/api/parsing/job/a0af2de7-8064-4372-9094-0c91b54ed38f/result/image/page-3.jpg \"HTTP/1.1 200 OK\"\n"
     ]
    },
    {
     "name": "stdout",
     "output_type": "stream",
     "text": [
      "> Image for page 5: [{'name': 'page-4.jpg', 'height': 0, 'width': 0, 'x': 0, 'y': 0, 'type': 'full_page_screenshot', 'path': 'data_images_rag\\\\a0af2de7-8064-4372-9094-0c91b54ed38f-page-4.jpg', 'job_id': 'a0af2de7-8064-4372-9094-0c91b54ed38f', 'original_pdf_path': 'data_rag/conocophillips.pdf', 'page_number': 5}]\n"
     ]
    },
    {
     "name": "stderr",
     "output_type": "stream",
     "text": [
      "INFO:httpx:HTTP Request: GET https://api.cloud.llamaindex.ai/api/parsing/job/a0af2de7-8064-4372-9094-0c91b54ed38f/result/image/page-4.jpg \"HTTP/1.1 200 OK\"\n"
     ]
    },
    {
     "name": "stdout",
     "output_type": "stream",
     "text": [
      "> Image for page 6: [{'name': 'page-5.jpg', 'height': 0, 'width': 0, 'x': 0, 'y': 0, 'type': 'full_page_screenshot', 'path': 'data_images_rag\\\\a0af2de7-8064-4372-9094-0c91b54ed38f-page-5.jpg', 'job_id': 'a0af2de7-8064-4372-9094-0c91b54ed38f', 'original_pdf_path': 'data_rag/conocophillips.pdf', 'page_number': 6}]\n"
     ]
    },
    {
     "name": "stderr",
     "output_type": "stream",
     "text": [
      "INFO:httpx:HTTP Request: GET https://api.cloud.llamaindex.ai/api/parsing/job/a0af2de7-8064-4372-9094-0c91b54ed38f/result/image/page-5.jpg \"HTTP/1.1 200 OK\"\n"
     ]
    },
    {
     "name": "stdout",
     "output_type": "stream",
     "text": [
      "> Image for page 7: [{'name': 'page-6.jpg', 'height': 0, 'width': 0, 'x': 0, 'y': 0, 'type': 'full_page_screenshot', 'path': 'data_images_rag\\\\a0af2de7-8064-4372-9094-0c91b54ed38f-page-6.jpg', 'job_id': 'a0af2de7-8064-4372-9094-0c91b54ed38f', 'original_pdf_path': 'data_rag/conocophillips.pdf', 'page_number': 7}]\n"
     ]
    },
    {
     "name": "stderr",
     "output_type": "stream",
     "text": [
      "INFO:httpx:HTTP Request: GET https://api.cloud.llamaindex.ai/api/parsing/job/a0af2de7-8064-4372-9094-0c91b54ed38f/result/image/page-6.jpg \"HTTP/1.1 200 OK\"\n"
     ]
    },
    {
     "name": "stdout",
     "output_type": "stream",
     "text": [
      "> Image for page 8: [{'name': 'page-7.jpg', 'height': 0, 'width': 0, 'x': 0, 'y': 0, 'type': 'full_page_screenshot', 'path': 'data_images_rag\\\\a0af2de7-8064-4372-9094-0c91b54ed38f-page-7.jpg', 'job_id': 'a0af2de7-8064-4372-9094-0c91b54ed38f', 'original_pdf_path': 'data_rag/conocophillips.pdf', 'page_number': 8}]\n"
     ]
    },
    {
     "name": "stderr",
     "output_type": "stream",
     "text": [
      "INFO:httpx:HTTP Request: GET https://api.cloud.llamaindex.ai/api/parsing/job/a0af2de7-8064-4372-9094-0c91b54ed38f/result/image/page-7.jpg \"HTTP/1.1 200 OK\"\n"
     ]
    },
    {
     "name": "stdout",
     "output_type": "stream",
     "text": [
      "> Image for page 9: [{'name': 'page-8.jpg', 'height': 0, 'width': 0, 'x': 0, 'y': 0, 'type': 'full_page_screenshot', 'path': 'data_images_rag\\\\a0af2de7-8064-4372-9094-0c91b54ed38f-page-8.jpg', 'job_id': 'a0af2de7-8064-4372-9094-0c91b54ed38f', 'original_pdf_path': 'data_rag/conocophillips.pdf', 'page_number': 9}]\n"
     ]
    },
    {
     "name": "stderr",
     "output_type": "stream",
     "text": [
      "INFO:httpx:HTTP Request: GET https://api.cloud.llamaindex.ai/api/parsing/job/a0af2de7-8064-4372-9094-0c91b54ed38f/result/image/page-8.jpg \"HTTP/1.1 200 OK\"\n"
     ]
    },
    {
     "name": "stdout",
     "output_type": "stream",
     "text": [
      "> Image for page 10: [{'name': 'page-9.jpg', 'height': 0, 'width': 0, 'x': 0, 'y': 0, 'type': 'full_page_screenshot', 'path': 'data_images_rag\\\\a0af2de7-8064-4372-9094-0c91b54ed38f-page-9.jpg', 'job_id': 'a0af2de7-8064-4372-9094-0c91b54ed38f', 'original_pdf_path': 'data_rag/conocophillips.pdf', 'page_number': 10}]\n"
     ]
    },
    {
     "name": "stderr",
     "output_type": "stream",
     "text": [
      "INFO:httpx:HTTP Request: GET https://api.cloud.llamaindex.ai/api/parsing/job/a0af2de7-8064-4372-9094-0c91b54ed38f/result/image/page-9.jpg \"HTTP/1.1 200 OK\"\n"
     ]
    },
    {
     "name": "stdout",
     "output_type": "stream",
     "text": [
      "> Image for page 11: [{'name': 'page-10.jpg', 'height': 0, 'width': 0, 'x': 0, 'y': 0, 'type': 'full_page_screenshot', 'path': 'data_images_rag\\\\a0af2de7-8064-4372-9094-0c91b54ed38f-page-10.jpg', 'job_id': 'a0af2de7-8064-4372-9094-0c91b54ed38f', 'original_pdf_path': 'data_rag/conocophillips.pdf', 'page_number': 11}]\n"
     ]
    },
    {
     "name": "stderr",
     "output_type": "stream",
     "text": [
      "INFO:httpx:HTTP Request: GET https://api.cloud.llamaindex.ai/api/parsing/job/a0af2de7-8064-4372-9094-0c91b54ed38f/result/image/page-10.jpg \"HTTP/1.1 200 OK\"\n"
     ]
    },
    {
     "name": "stdout",
     "output_type": "stream",
     "text": [
      "> Image for page 12: [{'name': 'page-11.jpg', 'height': 0, 'width': 0, 'x': 0, 'y': 0, 'type': 'full_page_screenshot', 'path': 'data_images_rag\\\\a0af2de7-8064-4372-9094-0c91b54ed38f-page-11.jpg', 'job_id': 'a0af2de7-8064-4372-9094-0c91b54ed38f', 'original_pdf_path': 'data_rag/conocophillips.pdf', 'page_number': 12}]\n"
     ]
    },
    {
     "name": "stderr",
     "output_type": "stream",
     "text": [
      "INFO:httpx:HTTP Request: GET https://api.cloud.llamaindex.ai/api/parsing/job/a0af2de7-8064-4372-9094-0c91b54ed38f/result/image/page-11.jpg \"HTTP/1.1 200 OK\"\n"
     ]
    },
    {
     "name": "stdout",
     "output_type": "stream",
     "text": [
      "> Image for page 13: [{'name': 'page-12.jpg', 'height': 0, 'width': 0, 'x': 0, 'y': 0, 'type': 'full_page_screenshot', 'path': 'data_images_rag\\\\a0af2de7-8064-4372-9094-0c91b54ed38f-page-12.jpg', 'job_id': 'a0af2de7-8064-4372-9094-0c91b54ed38f', 'original_pdf_path': 'data_rag/conocophillips.pdf', 'page_number': 13}]\n"
     ]
    },
    {
     "name": "stderr",
     "output_type": "stream",
     "text": [
      "INFO:httpx:HTTP Request: GET https://api.cloud.llamaindex.ai/api/parsing/job/a0af2de7-8064-4372-9094-0c91b54ed38f/result/image/page-12.jpg \"HTTP/1.1 200 OK\"\n"
     ]
    },
    {
     "name": "stdout",
     "output_type": "stream",
     "text": [
      "> Image for page 14: [{'name': 'page-13.jpg', 'height': 0, 'width': 0, 'x': 0, 'y': 0, 'type': 'full_page_screenshot', 'path': 'data_images_rag\\\\a0af2de7-8064-4372-9094-0c91b54ed38f-page-13.jpg', 'job_id': 'a0af2de7-8064-4372-9094-0c91b54ed38f', 'original_pdf_path': 'data_rag/conocophillips.pdf', 'page_number': 14}]\n"
     ]
    },
    {
     "name": "stderr",
     "output_type": "stream",
     "text": [
      "INFO:httpx:HTTP Request: GET https://api.cloud.llamaindex.ai/api/parsing/job/a0af2de7-8064-4372-9094-0c91b54ed38f/result/image/page-13.jpg \"HTTP/1.1 200 OK\"\n"
     ]
    },
    {
     "name": "stdout",
     "output_type": "stream",
     "text": [
      "> Image for page 15: [{'name': 'page-14.jpg', 'height': 0, 'width': 0, 'x': 0, 'y': 0, 'type': 'full_page_screenshot', 'path': 'data_images_rag\\\\a0af2de7-8064-4372-9094-0c91b54ed38f-page-14.jpg', 'job_id': 'a0af2de7-8064-4372-9094-0c91b54ed38f', 'original_pdf_path': 'data_rag/conocophillips.pdf', 'page_number': 15}]\n"
     ]
    },
    {
     "name": "stderr",
     "output_type": "stream",
     "text": [
      "INFO:httpx:HTTP Request: GET https://api.cloud.llamaindex.ai/api/parsing/job/a0af2de7-8064-4372-9094-0c91b54ed38f/result/image/page-14.jpg \"HTTP/1.1 200 OK\"\n"
     ]
    },
    {
     "name": "stdout",
     "output_type": "stream",
     "text": [
      "> Image for page 16: [{'name': 'page-15.jpg', 'height': 0, 'width': 0, 'x': 0, 'y': 0, 'type': 'full_page_screenshot', 'path': 'data_images_rag\\\\a0af2de7-8064-4372-9094-0c91b54ed38f-page-15.jpg', 'job_id': 'a0af2de7-8064-4372-9094-0c91b54ed38f', 'original_pdf_path': 'data_rag/conocophillips.pdf', 'page_number': 16}]\n"
     ]
    },
    {
     "name": "stderr",
     "output_type": "stream",
     "text": [
      "INFO:httpx:HTTP Request: GET https://api.cloud.llamaindex.ai/api/parsing/job/a0af2de7-8064-4372-9094-0c91b54ed38f/result/image/page-15.jpg \"HTTP/1.1 200 OK\"\n"
     ]
    },
    {
     "name": "stdout",
     "output_type": "stream",
     "text": [
      "> Image for page 17: [{'name': 'page-16.jpg', 'height': 0, 'width': 0, 'x': 0, 'y': 0, 'type': 'full_page_screenshot', 'path': 'data_images_rag\\\\a0af2de7-8064-4372-9094-0c91b54ed38f-page-16.jpg', 'job_id': 'a0af2de7-8064-4372-9094-0c91b54ed38f', 'original_pdf_path': 'data_rag/conocophillips.pdf', 'page_number': 17}]\n"
     ]
    },
    {
     "name": "stderr",
     "output_type": "stream",
     "text": [
      "INFO:httpx:HTTP Request: GET https://api.cloud.llamaindex.ai/api/parsing/job/a0af2de7-8064-4372-9094-0c91b54ed38f/result/image/page-16.jpg \"HTTP/1.1 200 OK\"\n"
     ]
    },
    {
     "name": "stdout",
     "output_type": "stream",
     "text": [
      "> Image for page 18: [{'name': 'page-17.jpg', 'height': 0, 'width': 0, 'x': 0, 'y': 0, 'type': 'full_page_screenshot', 'path': 'data_images_rag\\\\a0af2de7-8064-4372-9094-0c91b54ed38f-page-17.jpg', 'job_id': 'a0af2de7-8064-4372-9094-0c91b54ed38f', 'original_pdf_path': 'data_rag/conocophillips.pdf', 'page_number': 18}]\n"
     ]
    },
    {
     "name": "stderr",
     "output_type": "stream",
     "text": [
      "INFO:httpx:HTTP Request: GET https://api.cloud.llamaindex.ai/api/parsing/job/a0af2de7-8064-4372-9094-0c91b54ed38f/result/image/page-17.jpg \"HTTP/1.1 200 OK\"\n"
     ]
    },
    {
     "name": "stdout",
     "output_type": "stream",
     "text": [
      "> Image for page 19: [{'name': 'page-18.jpg', 'height': 0, 'width': 0, 'x': 0, 'y': 0, 'type': 'full_page_screenshot', 'path': 'data_images_rag\\\\a0af2de7-8064-4372-9094-0c91b54ed38f-page-18.jpg', 'job_id': 'a0af2de7-8064-4372-9094-0c91b54ed38f', 'original_pdf_path': 'data_rag/conocophillips.pdf', 'page_number': 19}]\n"
     ]
    },
    {
     "name": "stderr",
     "output_type": "stream",
     "text": [
      "INFO:httpx:HTTP Request: GET https://api.cloud.llamaindex.ai/api/parsing/job/a0af2de7-8064-4372-9094-0c91b54ed38f/result/image/page-18.jpg \"HTTP/1.1 200 OK\"\n"
     ]
    },
    {
     "name": "stdout",
     "output_type": "stream",
     "text": [
      "> Image for page 20: [{'name': 'page-19.jpg', 'height': 0, 'width': 0, 'x': 0, 'y': 0, 'type': 'full_page_screenshot', 'path': 'data_images_rag\\\\a0af2de7-8064-4372-9094-0c91b54ed38f-page-19.jpg', 'job_id': 'a0af2de7-8064-4372-9094-0c91b54ed38f', 'original_pdf_path': 'data_rag/conocophillips.pdf', 'page_number': 20}]\n"
     ]
    },
    {
     "name": "stderr",
     "output_type": "stream",
     "text": [
      "INFO:httpx:HTTP Request: GET https://api.cloud.llamaindex.ai/api/parsing/job/a0af2de7-8064-4372-9094-0c91b54ed38f/result/image/page-19.jpg \"HTTP/1.1 200 OK\"\n"
     ]
    },
    {
     "name": "stdout",
     "output_type": "stream",
     "text": [
      "> Image for page 21: [{'name': 'page-20.jpg', 'height': 0, 'width': 0, 'x': 0, 'y': 0, 'type': 'full_page_screenshot', 'path': 'data_images_rag\\\\a0af2de7-8064-4372-9094-0c91b54ed38f-page-20.jpg', 'job_id': 'a0af2de7-8064-4372-9094-0c91b54ed38f', 'original_pdf_path': 'data_rag/conocophillips.pdf', 'page_number': 21}]\n"
     ]
    },
    {
     "name": "stderr",
     "output_type": "stream",
     "text": [
      "INFO:httpx:HTTP Request: GET https://api.cloud.llamaindex.ai/api/parsing/job/a0af2de7-8064-4372-9094-0c91b54ed38f/result/image/page-20.jpg \"HTTP/1.1 200 OK\"\n"
     ]
    },
    {
     "name": "stdout",
     "output_type": "stream",
     "text": [
      "> Image for page 22: [{'name': 'page-21.jpg', 'height': 0, 'width': 0, 'x': 0, 'y': 0, 'type': 'full_page_screenshot', 'path': 'data_images_rag\\\\a0af2de7-8064-4372-9094-0c91b54ed38f-page-21.jpg', 'job_id': 'a0af2de7-8064-4372-9094-0c91b54ed38f', 'original_pdf_path': 'data_rag/conocophillips.pdf', 'page_number': 22}]\n"
     ]
    },
    {
     "name": "stderr",
     "output_type": "stream",
     "text": [
      "INFO:httpx:HTTP Request: GET https://api.cloud.llamaindex.ai/api/parsing/job/a0af2de7-8064-4372-9094-0c91b54ed38f/result/image/page-21.jpg \"HTTP/1.1 200 OK\"\n"
     ]
    },
    {
     "name": "stdout",
     "output_type": "stream",
     "text": [
      "> Image for page 23: [{'name': 'page-22.jpg', 'height': 0, 'width': 0, 'x': 0, 'y': 0, 'type': 'full_page_screenshot', 'path': 'data_images_rag\\\\a0af2de7-8064-4372-9094-0c91b54ed38f-page-22.jpg', 'job_id': 'a0af2de7-8064-4372-9094-0c91b54ed38f', 'original_pdf_path': 'data_rag/conocophillips.pdf', 'page_number': 23}]\n"
     ]
    },
    {
     "name": "stderr",
     "output_type": "stream",
     "text": [
      "INFO:httpx:HTTP Request: GET https://api.cloud.llamaindex.ai/api/parsing/job/a0af2de7-8064-4372-9094-0c91b54ed38f/result/image/page-22.jpg \"HTTP/1.1 200 OK\"\n"
     ]
    },
    {
     "name": "stdout",
     "output_type": "stream",
     "text": [
      "> Image for page 24: [{'name': 'page-23.jpg', 'height': 0, 'width': 0, 'x': 0, 'y': 0, 'type': 'full_page_screenshot', 'path': 'data_images_rag\\\\a0af2de7-8064-4372-9094-0c91b54ed38f-page-23.jpg', 'job_id': 'a0af2de7-8064-4372-9094-0c91b54ed38f', 'original_pdf_path': 'data_rag/conocophillips.pdf', 'page_number': 24}]\n"
     ]
    },
    {
     "name": "stderr",
     "output_type": "stream",
     "text": [
      "INFO:httpx:HTTP Request: GET https://api.cloud.llamaindex.ai/api/parsing/job/a0af2de7-8064-4372-9094-0c91b54ed38f/result/image/page-23.jpg \"HTTP/1.1 200 OK\"\n"
     ]
    },
    {
     "name": "stdout",
     "output_type": "stream",
     "text": [
      "> Image for page 25: [{'name': 'page-24.jpg', 'height': 0, 'width': 0, 'x': 0, 'y': 0, 'type': 'full_page_screenshot', 'path': 'data_images_rag\\\\a0af2de7-8064-4372-9094-0c91b54ed38f-page-24.jpg', 'job_id': 'a0af2de7-8064-4372-9094-0c91b54ed38f', 'original_pdf_path': 'data_rag/conocophillips.pdf', 'page_number': 25}]\n"
     ]
    },
    {
     "name": "stderr",
     "output_type": "stream",
     "text": [
      "INFO:httpx:HTTP Request: GET https://api.cloud.llamaindex.ai/api/parsing/job/a0af2de7-8064-4372-9094-0c91b54ed38f/result/image/page-24.jpg \"HTTP/1.1 200 OK\"\n"
     ]
    },
    {
     "name": "stdout",
     "output_type": "stream",
     "text": [
      "> Image for page 26: [{'name': 'page-25.jpg', 'height': 0, 'width': 0, 'x': 0, 'y': 0, 'type': 'full_page_screenshot', 'path': 'data_images_rag\\\\a0af2de7-8064-4372-9094-0c91b54ed38f-page-25.jpg', 'job_id': 'a0af2de7-8064-4372-9094-0c91b54ed38f', 'original_pdf_path': 'data_rag/conocophillips.pdf', 'page_number': 26}]\n"
     ]
    },
    {
     "name": "stderr",
     "output_type": "stream",
     "text": [
      "INFO:httpx:HTTP Request: GET https://api.cloud.llamaindex.ai/api/parsing/job/a0af2de7-8064-4372-9094-0c91b54ed38f/result/image/page-25.jpg \"HTTP/1.1 200 OK\"\n"
     ]
    },
    {
     "name": "stdout",
     "output_type": "stream",
     "text": [
      "> Image for page 27: [{'name': 'page-26.jpg', 'height': 0, 'width': 0, 'x': 0, 'y': 0, 'type': 'full_page_screenshot', 'path': 'data_images_rag\\\\a0af2de7-8064-4372-9094-0c91b54ed38f-page-26.jpg', 'job_id': 'a0af2de7-8064-4372-9094-0c91b54ed38f', 'original_pdf_path': 'data_rag/conocophillips.pdf', 'page_number': 27}]\n"
     ]
    },
    {
     "name": "stderr",
     "output_type": "stream",
     "text": [
      "INFO:httpx:HTTP Request: GET https://api.cloud.llamaindex.ai/api/parsing/job/a0af2de7-8064-4372-9094-0c91b54ed38f/result/image/page-26.jpg \"HTTP/1.1 200 OK\"\n"
     ]
    },
    {
     "name": "stdout",
     "output_type": "stream",
     "text": [
      "> Image for page 28: [{'name': 'page-27.jpg', 'height': 0, 'width': 0, 'x': 0, 'y': 0, 'type': 'full_page_screenshot', 'path': 'data_images_rag\\\\a0af2de7-8064-4372-9094-0c91b54ed38f-page-27.jpg', 'job_id': 'a0af2de7-8064-4372-9094-0c91b54ed38f', 'original_pdf_path': 'data_rag/conocophillips.pdf', 'page_number': 28}]\n"
     ]
    },
    {
     "name": "stderr",
     "output_type": "stream",
     "text": [
      "INFO:httpx:HTTP Request: GET https://api.cloud.llamaindex.ai/api/parsing/job/a0af2de7-8064-4372-9094-0c91b54ed38f/result/image/page-27.jpg \"HTTP/1.1 200 OK\"\n"
     ]
    },
    {
     "name": "stdout",
     "output_type": "stream",
     "text": [
      "> Image for page 29: [{'name': 'page-28.jpg', 'height': 0, 'width': 0, 'x': 0, 'y': 0, 'type': 'full_page_screenshot', 'path': 'data_images_rag\\\\a0af2de7-8064-4372-9094-0c91b54ed38f-page-28.jpg', 'job_id': 'a0af2de7-8064-4372-9094-0c91b54ed38f', 'original_pdf_path': 'data_rag/conocophillips.pdf', 'page_number': 29}]\n"
     ]
    },
    {
     "name": "stderr",
     "output_type": "stream",
     "text": [
      "INFO:httpx:HTTP Request: GET https://api.cloud.llamaindex.ai/api/parsing/job/a0af2de7-8064-4372-9094-0c91b54ed38f/result/image/page-28.jpg \"HTTP/1.1 200 OK\"\n"
     ]
    },
    {
     "name": "stdout",
     "output_type": "stream",
     "text": [
      "> Image for page 30: [{'name': 'page-29.jpg', 'height': 0, 'width': 0, 'x': 0, 'y': 0, 'type': 'full_page_screenshot', 'path': 'data_images_rag\\\\a0af2de7-8064-4372-9094-0c91b54ed38f-page-29.jpg', 'job_id': 'a0af2de7-8064-4372-9094-0c91b54ed38f', 'original_pdf_path': 'data_rag/conocophillips.pdf', 'page_number': 30}]\n"
     ]
    },
    {
     "name": "stderr",
     "output_type": "stream",
     "text": [
      "INFO:httpx:HTTP Request: GET https://api.cloud.llamaindex.ai/api/parsing/job/a0af2de7-8064-4372-9094-0c91b54ed38f/result/image/page-29.jpg \"HTTP/1.1 200 OK\"\n"
     ]
    },
    {
     "name": "stdout",
     "output_type": "stream",
     "text": [
      "> Image for page 31: [{'name': 'page-30.jpg', 'height': 0, 'width': 0, 'x': 0, 'y': 0, 'type': 'full_page_screenshot', 'path': 'data_images_rag\\\\a0af2de7-8064-4372-9094-0c91b54ed38f-page-30.jpg', 'job_id': 'a0af2de7-8064-4372-9094-0c91b54ed38f', 'original_pdf_path': 'data_rag/conocophillips.pdf', 'page_number': 31}]\n"
     ]
    },
    {
     "name": "stderr",
     "output_type": "stream",
     "text": [
      "INFO:httpx:HTTP Request: GET https://api.cloud.llamaindex.ai/api/parsing/job/a0af2de7-8064-4372-9094-0c91b54ed38f/result/image/page-30.jpg \"HTTP/1.1 200 OK\"\n"
     ]
    },
    {
     "name": "stdout",
     "output_type": "stream",
     "text": [
      "> Image for page 32: [{'name': 'page-31.jpg', 'height': 0, 'width': 0, 'x': 0, 'y': 0, 'type': 'full_page_screenshot', 'path': 'data_images_rag\\\\a0af2de7-8064-4372-9094-0c91b54ed38f-page-31.jpg', 'job_id': 'a0af2de7-8064-4372-9094-0c91b54ed38f', 'original_pdf_path': 'data_rag/conocophillips.pdf', 'page_number': 32}]\n"
     ]
    },
    {
     "name": "stderr",
     "output_type": "stream",
     "text": [
      "INFO:httpx:HTTP Request: GET https://api.cloud.llamaindex.ai/api/parsing/job/a0af2de7-8064-4372-9094-0c91b54ed38f/result/image/page-31.jpg \"HTTP/1.1 200 OK\"\n"
     ]
    },
    {
     "name": "stdout",
     "output_type": "stream",
     "text": [
      "> Image for page 33: [{'name': 'page-32.jpg', 'height': 0, 'width': 0, 'x': 0, 'y': 0, 'type': 'full_page_screenshot', 'path': 'data_images_rag\\\\a0af2de7-8064-4372-9094-0c91b54ed38f-page-32.jpg', 'job_id': 'a0af2de7-8064-4372-9094-0c91b54ed38f', 'original_pdf_path': 'data_rag/conocophillips.pdf', 'page_number': 33}]\n"
     ]
    },
    {
     "name": "stderr",
     "output_type": "stream",
     "text": [
      "INFO:httpx:HTTP Request: GET https://api.cloud.llamaindex.ai/api/parsing/job/a0af2de7-8064-4372-9094-0c91b54ed38f/result/image/page-32.jpg \"HTTP/1.1 200 OK\"\n"
     ]
    },
    {
     "name": "stdout",
     "output_type": "stream",
     "text": [
      "> Image for page 34: [{'name': 'page-33.jpg', 'height': 0, 'width': 0, 'x': 0, 'y': 0, 'type': 'full_page_screenshot', 'path': 'data_images_rag\\\\a0af2de7-8064-4372-9094-0c91b54ed38f-page-33.jpg', 'job_id': 'a0af2de7-8064-4372-9094-0c91b54ed38f', 'original_pdf_path': 'data_rag/conocophillips.pdf', 'page_number': 34}]\n"
     ]
    },
    {
     "name": "stderr",
     "output_type": "stream",
     "text": [
      "INFO:httpx:HTTP Request: GET https://api.cloud.llamaindex.ai/api/parsing/job/a0af2de7-8064-4372-9094-0c91b54ed38f/result/image/page-33.jpg \"HTTP/1.1 200 OK\"\n"
     ]
    },
    {
     "name": "stdout",
     "output_type": "stream",
     "text": [
      "> Image for page 35: [{'name': 'page-34.jpg', 'height': 0, 'width': 0, 'x': 0, 'y': 0, 'type': 'full_page_screenshot', 'path': 'data_images_rag\\\\a0af2de7-8064-4372-9094-0c91b54ed38f-page-34.jpg', 'job_id': 'a0af2de7-8064-4372-9094-0c91b54ed38f', 'original_pdf_path': 'data_rag/conocophillips.pdf', 'page_number': 35}]\n"
     ]
    },
    {
     "name": "stderr",
     "output_type": "stream",
     "text": [
      "INFO:httpx:HTTP Request: GET https://api.cloud.llamaindex.ai/api/parsing/job/a0af2de7-8064-4372-9094-0c91b54ed38f/result/image/page-34.jpg \"HTTP/1.1 200 OK\"\n"
     ]
    },
    {
     "name": "stdout",
     "output_type": "stream",
     "text": [
      "> Image for page 36: [{'name': 'page-35.jpg', 'height': 0, 'width': 0, 'x': 0, 'y': 0, 'type': 'full_page_screenshot', 'path': 'data_images_rag\\\\a0af2de7-8064-4372-9094-0c91b54ed38f-page-35.jpg', 'job_id': 'a0af2de7-8064-4372-9094-0c91b54ed38f', 'original_pdf_path': 'data_rag/conocophillips.pdf', 'page_number': 36}]\n"
     ]
    },
    {
     "name": "stderr",
     "output_type": "stream",
     "text": [
      "INFO:httpx:HTTP Request: GET https://api.cloud.llamaindex.ai/api/parsing/job/a0af2de7-8064-4372-9094-0c91b54ed38f/result/image/page-35.jpg \"HTTP/1.1 200 OK\"\n"
     ]
    },
    {
     "name": "stdout",
     "output_type": "stream",
     "text": [
      "> Image for page 37: [{'name': 'page-36.jpg', 'height': 0, 'width': 0, 'x': 0, 'y': 0, 'type': 'full_page_screenshot', 'path': 'data_images_rag\\\\a0af2de7-8064-4372-9094-0c91b54ed38f-page-36.jpg', 'job_id': 'a0af2de7-8064-4372-9094-0c91b54ed38f', 'original_pdf_path': 'data_rag/conocophillips.pdf', 'page_number': 37}]\n"
     ]
    },
    {
     "name": "stderr",
     "output_type": "stream",
     "text": [
      "INFO:httpx:HTTP Request: GET https://api.cloud.llamaindex.ai/api/parsing/job/a0af2de7-8064-4372-9094-0c91b54ed38f/result/image/page-36.jpg \"HTTP/1.1 200 OK\"\n"
     ]
    },
    {
     "name": "stdout",
     "output_type": "stream",
     "text": [
      "> Image for page 38: [{'name': 'page-37.jpg', 'height': 0, 'width': 0, 'x': 0, 'y': 0, 'type': 'full_page_screenshot', 'path': 'data_images_rag\\\\a0af2de7-8064-4372-9094-0c91b54ed38f-page-37.jpg', 'job_id': 'a0af2de7-8064-4372-9094-0c91b54ed38f', 'original_pdf_path': 'data_rag/conocophillips.pdf', 'page_number': 38}]\n"
     ]
    },
    {
     "name": "stderr",
     "output_type": "stream",
     "text": [
      "INFO:httpx:HTTP Request: GET https://api.cloud.llamaindex.ai/api/parsing/job/a0af2de7-8064-4372-9094-0c91b54ed38f/result/image/page-37.jpg \"HTTP/1.1 200 OK\"\n"
     ]
    },
    {
     "name": "stdout",
     "output_type": "stream",
     "text": [
      "> Image for page 39: [{'name': 'page-38.jpg', 'height': 0, 'width': 0, 'x': 0, 'y': 0, 'type': 'full_page_screenshot', 'path': 'data_images_rag\\\\a0af2de7-8064-4372-9094-0c91b54ed38f-page-38.jpg', 'job_id': 'a0af2de7-8064-4372-9094-0c91b54ed38f', 'original_pdf_path': 'data_rag/conocophillips.pdf', 'page_number': 39}]\n"
     ]
    },
    {
     "name": "stderr",
     "output_type": "stream",
     "text": [
      "INFO:httpx:HTTP Request: GET https://api.cloud.llamaindex.ai/api/parsing/job/a0af2de7-8064-4372-9094-0c91b54ed38f/result/image/page-38.jpg \"HTTP/1.1 200 OK\"\n"
     ]
    },
    {
     "name": "stdout",
     "output_type": "stream",
     "text": [
      "> Image for page 40: [{'name': 'page-39.jpg', 'height': 0, 'width': 0, 'x': 0, 'y': 0, 'type': 'full_page_screenshot', 'path': 'data_images_rag\\\\a0af2de7-8064-4372-9094-0c91b54ed38f-page-39.jpg', 'job_id': 'a0af2de7-8064-4372-9094-0c91b54ed38f', 'original_pdf_path': 'data_rag/conocophillips.pdf', 'page_number': 40}]\n"
     ]
    },
    {
     "name": "stderr",
     "output_type": "stream",
     "text": [
      "INFO:httpx:HTTP Request: GET https://api.cloud.llamaindex.ai/api/parsing/job/a0af2de7-8064-4372-9094-0c91b54ed38f/result/image/page-39.jpg \"HTTP/1.1 200 OK\"\n"
     ]
    },
    {
     "name": "stdout",
     "output_type": "stream",
     "text": [
      "> Image for page 41: [{'name': 'page-40.jpg', 'height': 0, 'width': 0, 'x': 0, 'y': 0, 'type': 'full_page_screenshot', 'path': 'data_images_rag\\\\a0af2de7-8064-4372-9094-0c91b54ed38f-page-40.jpg', 'job_id': 'a0af2de7-8064-4372-9094-0c91b54ed38f', 'original_pdf_path': 'data_rag/conocophillips.pdf', 'page_number': 41}]\n"
     ]
    },
    {
     "name": "stderr",
     "output_type": "stream",
     "text": [
      "INFO:httpx:HTTP Request: GET https://api.cloud.llamaindex.ai/api/parsing/job/a0af2de7-8064-4372-9094-0c91b54ed38f/result/image/page-40.jpg \"HTTP/1.1 200 OK\"\n"
     ]
    },
    {
     "name": "stdout",
     "output_type": "stream",
     "text": [
      "> Image for page 42: [{'name': 'page-41.jpg', 'height': 0, 'width': 0, 'x': 0, 'y': 0, 'type': 'full_page_screenshot', 'path': 'data_images_rag\\\\a0af2de7-8064-4372-9094-0c91b54ed38f-page-41.jpg', 'job_id': 'a0af2de7-8064-4372-9094-0c91b54ed38f', 'original_pdf_path': 'data_rag/conocophillips.pdf', 'page_number': 42}]\n"
     ]
    },
    {
     "name": "stderr",
     "output_type": "stream",
     "text": [
      "INFO:httpx:HTTP Request: GET https://api.cloud.llamaindex.ai/api/parsing/job/a0af2de7-8064-4372-9094-0c91b54ed38f/result/image/page-41.jpg \"HTTP/1.1 200 OK\"\n"
     ]
    },
    {
     "name": "stdout",
     "output_type": "stream",
     "text": [
      "> Image for page 43: [{'name': 'page-42.jpg', 'height': 0, 'width': 0, 'x': 0, 'y': 0, 'type': 'full_page_screenshot'}]\n"
     ]
    },
    {
     "name": "stderr",
     "output_type": "stream",
     "text": [
      "INFO:httpx:HTTP Request: GET https://api.cloud.llamaindex.ai/api/parsing/job/a0af2de7-8064-4372-9094-0c91b54ed38f/result/image/page-42.jpg \"HTTP/1.1 200 OK\"\n"
     ]
    },
    {
     "name": "stdout",
     "output_type": "stream",
     "text": [
      "> Image for page 44: [{'name': 'page-43.jpg', 'height': 0, 'width': 0, 'x': 0, 'y': 0, 'type': 'full_page_screenshot'}]\n"
     ]
    },
    {
     "name": "stderr",
     "output_type": "stream",
     "text": [
      "INFO:httpx:HTTP Request: GET https://api.cloud.llamaindex.ai/api/parsing/job/a0af2de7-8064-4372-9094-0c91b54ed38f/result/image/page-43.jpg \"HTTP/1.1 200 OK\"\n"
     ]
    },
    {
     "name": "stdout",
     "output_type": "stream",
     "text": [
      "> Image for page 45: [{'name': 'page-44.jpg', 'height': 0, 'width': 0, 'x': 0, 'y': 0, 'type': 'full_page_screenshot'}]\n"
     ]
    },
    {
     "name": "stderr",
     "output_type": "stream",
     "text": [
      "INFO:httpx:HTTP Request: GET https://api.cloud.llamaindex.ai/api/parsing/job/a0af2de7-8064-4372-9094-0c91b54ed38f/result/image/page-44.jpg \"HTTP/1.1 200 OK\"\n"
     ]
    },
    {
     "name": "stdout",
     "output_type": "stream",
     "text": [
      "> Image for page 46: [{'name': 'page-45.jpg', 'height': 0, 'width': 0, 'x': 0, 'y': 0, 'type': 'full_page_screenshot'}]\n"
     ]
    },
    {
     "name": "stderr",
     "output_type": "stream",
     "text": [
      "INFO:httpx:HTTP Request: GET https://api.cloud.llamaindex.ai/api/parsing/job/a0af2de7-8064-4372-9094-0c91b54ed38f/result/image/page-45.jpg \"HTTP/1.1 200 OK\"\n"
     ]
    },
    {
     "name": "stdout",
     "output_type": "stream",
     "text": [
      "> Image for page 47: [{'name': 'page-46.jpg', 'height': 0, 'width': 0, 'x': 0, 'y': 0, 'type': 'full_page_screenshot'}]\n"
     ]
    },
    {
     "name": "stderr",
     "output_type": "stream",
     "text": [
      "INFO:httpx:HTTP Request: GET https://api.cloud.llamaindex.ai/api/parsing/job/a0af2de7-8064-4372-9094-0c91b54ed38f/result/image/page-46.jpg \"HTTP/1.1 200 OK\"\n"
     ]
    },
    {
     "name": "stdout",
     "output_type": "stream",
     "text": [
      "> Image for page 48: [{'name': 'page-47.jpg', 'height': 0, 'width': 0, 'x': 0, 'y': 0, 'type': 'full_page_screenshot'}]\n"
     ]
    },
    {
     "name": "stderr",
     "output_type": "stream",
     "text": [
      "INFO:httpx:HTTP Request: GET https://api.cloud.llamaindex.ai/api/parsing/job/a0af2de7-8064-4372-9094-0c91b54ed38f/result/image/page-47.jpg \"HTTP/1.1 200 OK\"\n"
     ]
    },
    {
     "name": "stdout",
     "output_type": "stream",
     "text": [
      "> Image for page 49: [{'name': 'page-48.jpg', 'height': 0, 'width': 0, 'x': 0, 'y': 0, 'type': 'full_page_screenshot'}]\n"
     ]
    },
    {
     "name": "stderr",
     "output_type": "stream",
     "text": [
      "INFO:httpx:HTTP Request: GET https://api.cloud.llamaindex.ai/api/parsing/job/a0af2de7-8064-4372-9094-0c91b54ed38f/result/image/page-48.jpg \"HTTP/1.1 200 OK\"\n"
     ]
    },
    {
     "name": "stdout",
     "output_type": "stream",
     "text": [
      "> Image for page 50: [{'name': 'page-49.jpg', 'height': 0, 'width': 0, 'x': 0, 'y': 0, 'type': 'full_page_screenshot'}]\n"
     ]
    },
    {
     "name": "stderr",
     "output_type": "stream",
     "text": [
      "INFO:httpx:HTTP Request: GET https://api.cloud.llamaindex.ai/api/parsing/job/a0af2de7-8064-4372-9094-0c91b54ed38f/result/image/page-49.jpg \"HTTP/1.1 200 OK\"\n"
     ]
    },
    {
     "name": "stdout",
     "output_type": "stream",
     "text": [
      "> Image for page 51: [{'name': 'page-50.jpg', 'height': 0, 'width': 0, 'x': 0, 'y': 0, 'type': 'full_page_screenshot'}]\n"
     ]
    },
    {
     "name": "stderr",
     "output_type": "stream",
     "text": [
      "INFO:httpx:HTTP Request: GET https://api.cloud.llamaindex.ai/api/parsing/job/a0af2de7-8064-4372-9094-0c91b54ed38f/result/image/page-50.jpg \"HTTP/1.1 200 OK\"\n"
     ]
    },
    {
     "name": "stdout",
     "output_type": "stream",
     "text": [
      "> Image for page 52: [{'name': 'page-51.jpg', 'height': 0, 'width': 0, 'x': 0, 'y': 0, 'type': 'full_page_screenshot'}]\n"
     ]
    },
    {
     "name": "stderr",
     "output_type": "stream",
     "text": [
      "INFO:httpx:HTTP Request: GET https://api.cloud.llamaindex.ai/api/parsing/job/a0af2de7-8064-4372-9094-0c91b54ed38f/result/image/page-51.jpg \"HTTP/1.1 200 OK\"\n"
     ]
    },
    {
     "name": "stdout",
     "output_type": "stream",
     "text": [
      "> Image for page 53: [{'name': 'page-52.jpg', 'height': 0, 'width': 0, 'x': 0, 'y': 0, 'type': 'full_page_screenshot'}]\n"
     ]
    },
    {
     "name": "stderr",
     "output_type": "stream",
     "text": [
      "INFO:httpx:HTTP Request: GET https://api.cloud.llamaindex.ai/api/parsing/job/a0af2de7-8064-4372-9094-0c91b54ed38f/result/image/page-52.jpg \"HTTP/1.1 200 OK\"\n"
     ]
    },
    {
     "name": "stdout",
     "output_type": "stream",
     "text": [
      "> Image for page 54: [{'name': 'page-53.jpg', 'height': 0, 'width': 0, 'x': 0, 'y': 0, 'type': 'full_page_screenshot'}]\n"
     ]
    },
    {
     "name": "stderr",
     "output_type": "stream",
     "text": [
      "INFO:httpx:HTTP Request: GET https://api.cloud.llamaindex.ai/api/parsing/job/a0af2de7-8064-4372-9094-0c91b54ed38f/result/image/page-53.jpg \"HTTP/1.1 200 OK\"\n"
     ]
    },
    {
     "name": "stdout",
     "output_type": "stream",
     "text": [
      "> Image for page 55: [{'name': 'page-54.jpg', 'height': 0, 'width': 0, 'x': 0, 'y': 0, 'type': 'full_page_screenshot'}]\n"
     ]
    },
    {
     "name": "stderr",
     "output_type": "stream",
     "text": [
      "INFO:httpx:HTTP Request: GET https://api.cloud.llamaindex.ai/api/parsing/job/a0af2de7-8064-4372-9094-0c91b54ed38f/result/image/page-54.jpg \"HTTP/1.1 200 OK\"\n"
     ]
    },
    {
     "name": "stdout",
     "output_type": "stream",
     "text": [
      "> Image for page 56: [{'name': 'page-55.jpg', 'height': 0, 'width': 0, 'x': 0, 'y': 0, 'type': 'full_page_screenshot'}]\n"
     ]
    },
    {
     "name": "stderr",
     "output_type": "stream",
     "text": [
      "INFO:httpx:HTTP Request: GET https://api.cloud.llamaindex.ai/api/parsing/job/a0af2de7-8064-4372-9094-0c91b54ed38f/result/image/page-55.jpg \"HTTP/1.1 200 OK\"\n"
     ]
    },
    {
     "name": "stdout",
     "output_type": "stream",
     "text": [
      "> Image for page 57: [{'name': 'page-56.jpg', 'height': 0, 'width': 0, 'x': 0, 'y': 0, 'type': 'full_page_screenshot'}]\n"
     ]
    },
    {
     "name": "stderr",
     "output_type": "stream",
     "text": [
      "INFO:httpx:HTTP Request: GET https://api.cloud.llamaindex.ai/api/parsing/job/a0af2de7-8064-4372-9094-0c91b54ed38f/result/image/page-56.jpg \"HTTP/1.1 200 OK\"\n"
     ]
    },
    {
     "name": "stdout",
     "output_type": "stream",
     "text": [
      "> Image for page 58: [{'name': 'page-57.jpg', 'height': 0, 'width': 0, 'x': 0, 'y': 0, 'type': 'full_page_screenshot'}]\n"
     ]
    },
    {
     "name": "stderr",
     "output_type": "stream",
     "text": [
      "INFO:httpx:HTTP Request: GET https://api.cloud.llamaindex.ai/api/parsing/job/a0af2de7-8064-4372-9094-0c91b54ed38f/result/image/page-57.jpg \"HTTP/1.1 200 OK\"\n"
     ]
    },
    {
     "name": "stdout",
     "output_type": "stream",
     "text": [
      "> Image for page 59: [{'name': 'page-58.jpg', 'height': 0, 'width': 0, 'x': 0, 'y': 0, 'type': 'full_page_screenshot'}]\n"
     ]
    },
    {
     "name": "stderr",
     "output_type": "stream",
     "text": [
      "INFO:httpx:HTTP Request: GET https://api.cloud.llamaindex.ai/api/parsing/job/a0af2de7-8064-4372-9094-0c91b54ed38f/result/image/page-58.jpg \"HTTP/1.1 200 OK\"\n"
     ]
    },
    {
     "name": "stdout",
     "output_type": "stream",
     "text": [
      "> Image for page 60: [{'name': 'page-59.jpg', 'height': 0, 'width': 0, 'x': 0, 'y': 0, 'type': 'full_page_screenshot'}]\n"
     ]
    },
    {
     "name": "stderr",
     "output_type": "stream",
     "text": [
      "INFO:httpx:HTTP Request: GET https://api.cloud.llamaindex.ai/api/parsing/job/a0af2de7-8064-4372-9094-0c91b54ed38f/result/image/page-59.jpg \"HTTP/1.1 200 OK\"\n"
     ]
    },
    {
     "name": "stdout",
     "output_type": "stream",
     "text": [
      "> Image for page 61: [{'name': 'page-60.jpg', 'height': 0, 'width': 0, 'x': 0, 'y': 0, 'type': 'full_page_screenshot'}]\n"
     ]
    },
    {
     "name": "stderr",
     "output_type": "stream",
     "text": [
      "INFO:httpx:HTTP Request: GET https://api.cloud.llamaindex.ai/api/parsing/job/a0af2de7-8064-4372-9094-0c91b54ed38f/result/image/page-60.jpg \"HTTP/1.1 200 OK\"\n"
     ]
    },
    {
     "name": "stdout",
     "output_type": "stream",
     "text": [
      "> Image for page 62: [{'name': 'page-61.jpg', 'height': 0, 'width': 0, 'x': 0, 'y': 0, 'type': 'full_page_screenshot'}]\n"
     ]
    },
    {
     "name": "stderr",
     "output_type": "stream",
     "text": [
      "INFO:httpx:HTTP Request: GET https://api.cloud.llamaindex.ai/api/parsing/job/a0af2de7-8064-4372-9094-0c91b54ed38f/result/image/page-61.jpg \"HTTP/1.1 200 OK\"\n"
     ]
    }
   ],
   "source": [
    "image_dicts = parser_gpt4o.get_images(md_json_objs, download_path=\"data_images\")"
   ]
  },
  {
   "cell_type": "markdown",
   "id": "fd3e098b-0606-4429-b48d-d4fe0140fc0e",
   "metadata": {},
   "source": [
    "## Build Multimodal Index\n",
    "\n",
    "In this section we build the multimodal index over the parsed deck. \n",
    "\n",
    "We do this by creating **text** nodes from the document that contain metadata referencing the original image path.\n",
    "\n",
    "In this example we're indexing the text node for retrieval. The text node has a reference to both the parsed text as well as the image screenshot."
   ]
  },
  {
   "cell_type": "markdown",
   "id": "3aae2dee-9d85-4604-8a51-705d4db527f7",
   "metadata": {},
   "source": [
    "#### Get Text Nodes"
   ]
  },
  {
   "cell_type": "code",
   "execution_count": 74,
   "id": "18c24174-05ce-417f-8dd2-79c3f375db03",
   "metadata": {},
   "outputs": [],
   "source": [
    "from llama_index.core.schema import TextNode\n",
    "from typing import Optional"
   ]
  },
  {
   "cell_type": "code",
   "execution_count": 79,
   "id": "8e331dfe-a627-4e23-8c57-70ab1d9342e4",
   "metadata": {},
   "outputs": [],
   "source": [
    "# get pages loaded through llamaparse\n",
    "import re\n",
    "\n",
    "\n",
    "def get_page_number(file_name):\n",
    "    match = re.search(r\"-page-(\\d+)\\.jpg$\", str(file_name))\n",
    "    if match:\n",
    "        return int(match.group(1))\n",
    "    return 0\n",
    "\n",
    "\n",
    "def _get_sorted_image_files(image_dir):\n",
    "    \"\"\"Get image files sorted by page.\"\"\"\n",
    "    raw_files = [f for f in list(Path(image_dir).iterdir()) if f.is_file()]\n",
    "    sorted_files = sorted(raw_files, key=get_page_number)\n",
    "    return sorted_files"
   ]
  },
  {
   "cell_type": "code",
   "execution_count": 86,
   "id": "15b20d60",
   "metadata": {},
   "outputs": [
    {
     "name": "stdout",
     "output_type": "stream",
     "text": [
      "Number of image files: 62\n",
      "First few image files:\n",
      "a0af2de7-8064-4372-9094-0c91b54ed38f-page-0.jpg\n",
      "a0af2de7-8064-4372-9094-0c91b54ed38f-page-1.jpg\n",
      "a0af2de7-8064-4372-9094-0c91b54ed38f-page-10.jpg\n",
      "a0af2de7-8064-4372-9094-0c91b54ed38f-page-11.jpg\n",
      "a0af2de7-8064-4372-9094-0c91b54ed38f-page-12.jpg\n"
     ]
    }
   ],
   "source": [
    "import os\n",
    "\n",
    "image_files = os.listdir(\"data_images)\n",
    "print(f\"Number of image files: {len(image_files)}\")\n",
    "print(\"First few image files:\")\n",
    "for file in image_files[:5]:\n",
    "    print(file)"
   ]
  },
  {
   "cell_type": "code",
   "execution_count": 87,
   "id": "346fe5ef-171e-4a54-9084-7a7805103a13",
   "metadata": {},
   "outputs": [],
   "source": [
    "from copy import deepcopy\n",
    "from pathlib import Path\n",
    "\n",
    "\n",
    "# attach image metadata to the text nodes\n",
    "def get_text_nodes(docs, image_dir=None, json_dicts=None):\n",
    "    nodes = []\n",
    "    image_files = _get_sorted_image_files(image_dir) if image_dir is not None else None\n",
    "    md_texts = [d[\"md\"] for d in json_dicts] if json_dicts is not None else None\n",
    "\n",
    "    for doc_idx, doc in enumerate(docs):\n",
    "        doc_chunks = doc.text.split(\"---\")\n",
    "        for chunk_idx, doc_chunk in enumerate(doc_chunks):\n",
    "            page_num = doc_idx * len(doc_chunks) + chunk_idx + 1\n",
    "            chunk_metadata = {\"page_num\": page_num}\n",
    "            if image_files is not None and page_num <= len(image_files):\n",
    "                chunk_metadata[\"image_path\"] = str(image_files[page_num - 1])\n",
    "            if md_texts is not None and page_num <= len(md_texts):\n",
    "                chunk_metadata[\"parsed_text_markdown\"] = md_texts[page_num - 1]\n",
    "            chunk_metadata[\"parsed_text\"] = doc_chunk\n",
    "            node = TextNode(\n",
    "                text=\"\",\n",
    "                metadata=chunk_metadata,\n",
    "            )\n",
    "            nodes.append(node)\n",
    "\n",
    "    return nodes"
   ]
  },
  {
   "cell_type": "code",
   "execution_count": 88,
   "id": "f591669c-5a8e-491d-9cef-0b754abbf26f",
   "metadata": {},
   "outputs": [
    {
     "name": "stdout",
     "output_type": "stream",
     "text": [
      "Number of text nodes: 62\n",
      "\n",
      "Content of the last node (index 61):\n",
      "page_num: 62\n",
      "image_path: data_images_rag\\a0af2de7-8064-4372-9094-0c91b54ed38f-page-61.jpg\n",
      "parsed_text_markdown: # Definitions\n",
      "\n",
      "## Other Terms\n",
      "\n",
      "**Cost of Supply** is the WTI equivalent price that generates a 10% after-tax return on a point-forward and fully burdened basis. Fully burdened includes capital infrastructure, foreign exchange, price-related inflation, G&A and carbon tax (if currently assessed). If no carbon tax exists for the asset, carbon pricing aligned with internal energy scenarios are applied. All barrels of resource in the Cost of Supply calculation are discounted at 10%.\n",
      "\n",
      "**Distributions** is defined as the total of the ordinary dividend, share repurchases and variable return of cash (VROC). Also referred to as return of capital.\n",
      "\n",
      "**Free cash flow breakeven** is the WTI price at which cash from operations equals capital expenditures and investments. Also referred to as capital breakeven. Cash from operations is a non-GAAP measure defined in this Appendix.\n",
      "\n",
      "**Leverage ratio** refers to net debt divided by cash from operations. Net debt and cash from operations are non-GAAP measures defined in this Appendix.\n",
      "\n",
      "**Optimized Cascade® Process** is a ConocoPhillips proprietary licensed process for technology to liquefy natural gas. More information can be found at [http://lnglicensing.conocophillips.com/what-we-do/lng-technology/optimized-cascade-process](http://lnglicensing.conocophillips.com/what-we-do/lng-technology/optimized-cascade-process).\n",
      "\n",
      "**Reserve replacement** is defined by the Company as a ratio representing the change in proved reserves, net of production, divided by current year production. The Company believes that reserve replacement is useful to investors to help understand how changes in proved reserves, net of production, compare with the Company’s current year production, inclusive of acquisitions and dispositions.\n",
      "\n",
      "**Resources:** The company estimates its total resources based on the Petroleum Resources Management System (PRMS), a system developed by industry that classifies recoverable hydrocarbons into commercial and sub-commercial to reflect their status at the time of reporting. Proved, probable and possible reserves are classified as commercial, while remaining resources are categorized as sub-commercial or contingent. The company’s resource estimate includes volumes associated with both commercial and contingent categories. The SEC permits oil and gas companies, in their filings with the SEC, to disclose only proved, probable and possible reserves. U.S. investors are urged to consider closely the oil and gas disclosures in our Form 10-K and other reports and filings with the SEC.\n",
      "\n",
      "**Resource life** is calculated as total resource under $40 Cost of Supply divided by 2022 production.\n",
      "\n",
      "**Return of capital** is defined as the total of the ordinary dividend, share repurchases and variable return of cash (VROC). Also referred to as distributions.\n",
      "parsed_text: Definitions\n",
      " Other Terms\n",
      " Cost of Supply is the WTI equivalent price that generates a 10% after-tax return on a point-forward and fully burdened basis. Fully burdened includes capital infrastructure; foreign\n",
      " exchange; price-related inflation, G&A and carbon tax (if currently assessed)  If no carbon tax exists for the asset; carbon pricing aligned with internal energy scenarios are applied.\n",
      " All barrels of resource in the Cost of Supply calculation are discounted at 10%_\n",
      " Distributions is defined as the total of the ordinary dividend, share repurchases and variable return of cash (VROC) Also referred to as return of capital.\n",
      " Free cash flow breakeven is the WTI price at which cash from operations equals capital expenditures and investments. Also referred to as capital breakeven. Cash from operations\n",
      " is a non-GAAP measure defined in this Appendix:\n",
      " Leverage ratio refers to net debt divided by cash from operations Net debt and cash from operations are non-GAAP measures defined in this Appendix\n",
      " Optimized Cascade @ Process is a ConocoPhillips proprietary licensed process for technology to liquefy natural gas. More information can be found at\n",
      " http: / /Inglicensing conocophillipscom/what-we-do/lng-technology/optimized-cascade-process\n",
      " believes that reserve replacement is useful to investors to help understand how changes in proved reserves, net of production, compare with the Companys current year\n",
      "                                                                                                                                                                      Reserve replacement is defined by the Company as a ratio representing the change in proved reserves, net of production, divided by current year production The Company\n",
      " production; inclusive of acquisitions and dispositions\n",
      " hydrocarbons into commercial and sub-commercial to reflect their status at the time of reporting: Proved, probable and possible reserves are classified as commercial, while\n",
      "                                                                                                                                                                             Resources: The company estimates its total resources based on the Petroleum Resources Management System (PRMS), a system developed by industry that classifies recoverable\n",
      " remaining resources are categorized as sub-commercial or contingent: The companys resource estimate includes volumes associated with both commercial and contingent\n",
      " categories The SEC permits oil and gas companies, in their filings with the SEC, to disclose only proved, probable and possible reserves U.S. investors are urged to consider closely\n",
      " the oil and gas disclosures in our Form 10-K and other reports andfilings with the SEC.\n",
      " Resource life is calculated as total resource under $40 Cost of Supply divided by 2022 production.\n",
      " Return of capital is defined as the total of the ordinary dividend, share repurchases and variable return of cash (VROC) Also referred to as distributions\n",
      "                                                                                                                                                                                                                       ConocoPhillips\n",
      "\n",
      "Content of the 10th node (index 9):\n",
      "page_num: 10\n",
      "image_path: data_images_rag\\a0af2de7-8064-4372-9094-0c91b54ed38f-page-9.jpg\n",
      "parsed_text_markdown: # Strategy Powers Our Returns-Focused Value Proposition\n",
      "\n",
      "## Rigorous Capital Allocation Framework\n",
      "- Commitment to disciplined reinvestment rate\n",
      "- Cost of Supply analysis informs investment decisions\n",
      "- Balance of short-cycle, flexible unconventional with select longer-cycle, low-decline conventional\n",
      "\n",
      "## Differentiated Portfolio Depth, Durability and Diversity\n",
      "- ~20 BBOE, <$40/BBL WTI low Cost of Supply resource base\n",
      "- Leading Lower 48 unconventional position, complemented with premium Alaska and International assets\n",
      "- Strong track record of active portfolio management\n",
      "\n",
      "## Valued Role in the Energy Transition\n",
      "- Accelerating GHG-intensity reduction target through 2030\n",
      "- Built attractive LNG portfolio\n",
      "- Evaluating longer term low-carbon options in hydrogen and CCS\n",
      "\n",
      "*Reinvestment rate is a non-GAAP measure defined in the Appendix.*\n",
      "parsed_text: Strategy Powers Our Returns-Focused Value Proposition\n",
      "                                   S\n",
      "                  Rigorous Capital                                        Differentiated Portfolio                                   Valued Role in the\n",
      "            Allocation Framework                                 Depth, Durability and Diversity                                     Energy Transition\n",
      "                     Commitment to                                            20 BBOE,              S40/BBL WTI                 Accelerating GHG-intensity\n",
      "         disciplined reinvestment rate                              low Cost of Supply resource base                        reduction target through 2030\n",
      "                                                                                  Leading Lower 48\n",
      "               Cost of Supply analysis                                      unconventional position;                                        Built attractive\n",
      "         informs investment decisions                                  complemented with premium                                            LNG portfolio\n",
      "                                                                       Alaska and International assets\n",
      "              Balance of short-cycle,                                                                                               Evaluating longer term\n",
      "             flexible unconventional                                     Strong track record of activeportfolio management          IoW-carbon options in\n",
      "            with select longer-cycle,                                                                                                  hydrogen and CCS\n",
      "           low-decline conventional\n",
      " Reinvestment rate is  non-GAAP measure defined in the Appendix                                                                                               ConocoPhillips\n"
     ]
    }
   ],
   "source": [
    "text_nodes = get_text_nodes(docs_text, image_dir=\"data_images\", json_dicts=md_json_list)\n",
    "\n",
    "print(f\"Number of text nodes: {len(text_nodes)}\")\n",
    "\n",
    "if len(text_nodes) > 0:\n",
    "    last_index = len(text_nodes) - 1\n",
    "    print(f\"\\nContent of the last node (index {last_index}):\")\n",
    "    print(text_nodes[last_index].get_content(metadata_mode=\"all\"))\n",
    "else:\n",
    "    print(\"The text_nodes list is empty.\")\n",
    "\n",
    "# Print content of the 10th node (if it exists)\n",
    "if len(text_nodes) > 10:\n",
    "    print(\"\\nContent of the 10th node (index 9):\")\n",
    "    print(text_nodes[9].get_content(metadata_mode=\"all\"))\n",
    "else:\n",
    "    print(\"\\nThere are fewer than 11 nodes.\")"
   ]
  },
  {
   "cell_type": "code",
   "execution_count": 90,
   "id": "32c13950-c1db-435f-b5b4-89d62b8b7744",
   "metadata": {},
   "outputs": [
    {
     "name": "stdout",
     "output_type": "stream",
     "text": [
      "page_num: 11\n",
      "image_path: data_images_rag\\a0af2de7-8064-4372-9094-0c91b54ed38f-page-10.jpg\n",
      "parsed_text_markdown: # Commitment to Disciplined Reinvestment Rate\n",
      "\n",
      "| | Industry Growth Focus | ConocoPhillips Strategy Reset | Disciplined Reinvestment Rate is the Foundation for Superior Returns on and of Capital, while Driving Durable CFO Growth |\n",
      "|---|---|---|---|\n",
      "| | >100% Reinvestment Rate | <60% Reinvestment Rate | ~50% 10-Year Reinvestment Rate <br> ~6% CFO CAGR 2024-2032 <br> at $60/BBL WTI Mid-Cycle Planning Price |\n",
      "\n",
      "| ConocoPhillips Average Annual Reinvestment Rate (%) | 2012-2016 | 2017-2022 | 2023E | 2024-2028 | 2029-2032 |\n",
      "|---|---|---|---|---|---|\n",
      "| 100% | | | | | |\n",
      "| 75% | | | | | |\n",
      "| 50% | | | | | |\n",
      "| 25% | | | | | |\n",
      "| 0% | | | | | |\n",
      "\n",
      "| | | | | | |\n",
      "|---|---|---|---|---|---|\n",
      "| | ~ $75/BBL WTI Average | ~ $63/BBL WTI Average | at $80/BBL WTI | at $60/BBL WTI <br> at $80/BBL WTI | at $60/BBL WTI <br> at $80/BBL WTI |\n",
      "\n",
      "*Reinvestment rate and cash from operations (CFO) are non-GAAP measures. Definitions and reconciliations are included in the Appendix.*\n",
      "parsed_text: Commitment to Disciplined Reinvestment Rate\n",
      "                         Industry                    ConocoPhillips\n",
      "                                                     Strategy Reset                   Disciplined Reinvestment Rate is the Foundation for Superior\n",
      "                      Growth Focus                                                    Returns on and of Capital, while Driving Durable CFO Growth\n",
      "                             100%                           <60%                                        50%                 6%         at $60/BBL WTI\n",
      "                       Reinvestment Rate               Reinvestment Rate                          Reinvestment Rate10-YearCFO CAGR          Planning PriceMid-Cycle\n",
      "                                                                                                                         2024-2032\n",
      "    2   100%\n",
      "    1    75%\n",
      "    1    50%\n",
      "    1                                                                                                                                         WTIat $80/BBL                at S80/BBL\n",
      "         25%                'S75/BBL                        $63/BBL                                                                                                        WTI\n",
      "                              WTI                             WTI                         at S80/BBL                       at S60/BBL                      at S60/BBL\n",
      "                           Average                         Average                            WTI                              WTI                             WTI\n",
      "          0%\n",
      "                          2012-2016                        2017-2022                         2023E                          2024-2028                       2029-2032\n",
      "                                    Historic Reinvestment Rate            Reinvestment Rate at $60/BBL WTI                 Reinvestment Rate at $80/BBL WTI\n",
      " Reinvestment rate and cash from operations (CFO) are non-GAAP measures: Definitions and reconciliations are included in the Appendix                                  ConocoPhillips\n"
     ]
    }
   ],
   "source": [
    "print(text_nodes[10].get_content(metadata_mode=\"all\"))"
   ]
  },
  {
   "cell_type": "markdown",
   "id": "4f404f56-db1e-4ed7-9ba1-ead763546348",
   "metadata": {},
   "source": [
    "#### Build Index\n",
    "\n",
    "Once the text nodes are ready, we feed into our vector store index abstraction, which will index these nodes into a simple in-memory vector store (of course, you should definitely check out our 40+ vector store integrations!)"
   ]
  },
  {
   "cell_type": "code",
   "execution_count": 91,
   "id": "6ea53c31-0e38-421c-8d9b-0e3adaa1677e",
   "metadata": {},
   "outputs": [
    {
     "name": "stderr",
     "output_type": "stream",
     "text": [
      "INFO:httpx:HTTP Request: POST https://api.openai.com/v1/embeddings \"HTTP/1.1 200 OK\"\n"
     ]
    }
   ],
   "source": [
    "import os\n",
    "from llama_index.core import (\n",
    "    StorageContext,\n",
    "    VectorStoreIndex,\n",
    "    load_index_from_storage,\n",
    ")\n",
    "\n",
    "if not os.path.exists(\"storage_nodes\"):\n",
    "    index = VectorStoreIndex(text_nodes, embed_model=embed_model)\n",
    "    # save index to disk\n",
    "    index.set_index_id(\"vector_index\")\n",
    "    index.storage_context.persist(\"./storage_nodes\")\n",
    "else:\n",
    "    # rebuild storage context\n",
    "    storage_context = StorageContext.from_defaults(persist_dir=\"storage_nodes\")\n",
    "    # load index\n",
    "    index = load_index_from_storage(storage_context, index_id=\"vector_index\")\n",
    "\n",
    "retriever = index.as_retriever()"
   ]
  },
  {
   "cell_type": "markdown",
   "id": "5f0e33a4-9422-498d-87ee-d917bdf74d80",
   "metadata": {},
   "source": [
    "## Build Multimodal Query Engine\n",
    "\n",
    "We now use LlamaIndex abstractions to build a **custom query engine**. In contrast to a standard RAG query engine that will retrieve the text node and only put that into the prompt (response synthesis module), this custom query engine will also load the image document, and put both the text and image document into the response synthesis module."
   ]
  },
  {
   "cell_type": "code",
   "execution_count": 109,
   "id": "35a94be2-e289-41a6-92e4-d3cb428fb0c8",
   "metadata": {},
   "outputs": [],
   "source": [
    "from llama_index.core.query_engine import CustomQueryEngine, SimpleMultiModalQueryEngine\n",
    "from llama_index.core.retrievers import BaseRetriever\n",
    "from llama_index.multi_modal_llms.openai import OpenAIMultiModal\n",
    "from llama_index.core.schema import ImageNode, NodeWithScore, MetadataMode\n",
    "from llama_index.core.prompts import PromptTemplate\n",
    "from llama_index.core.base.response.schema import Response\n",
    "from typing import Optional\n",
    "\n",
    "\n",
    "gpt_4o = OpenAIMultiModal(model=\"gpt-4o\", max_new_tokens=4096)\n",
    "\n",
    "QA_PROMPT_TMPL = \"\"\"\\\n",
    "Below we give parsed text from slides in two different formats, as well as the image.\n",
    "\n",
    "We parse the text in both 'markdown' mode as well as 'raw text' mode. Markdown mode attempts \\\n",
    "to convert relevant diagrams into tables, whereas raw text tries to maintain the rough spatial \\\n",
    "layout of the text.\n",
    "\n",
    "Use the image information first and foremost. ONLY use the text/markdown information \n",
    "if you can't understand the image.\n",
    "\n",
    "---------------------\n",
    "{context_str}\n",
    "---------------------\n",
    "Given the context information and not prior knowledge, answer the query. Explain whether you got the answer\n",
    "from the parsed markdown or raw text or image, and if there's discrepancies, and your reasoning for the final answer.\n",
    "\n",
    "Query: {query_str}\n",
    "Answer: \"\"\"\n",
    "\n",
    "QA_PROMPT = PromptTemplate(QA_PROMPT_TMPL)\n",
    "\n",
    "\n",
    "class MultimodalQueryEngine(CustomQueryEngine):\n",
    "    \"\"\"Custom multimodal Query Engine.\n",
    "\n",
    "    Takes in a retriever to retrieve a set of document nodes.\n",
    "    Also takes in a prompt template and multimodal model.\n",
    "\n",
    "    \"\"\"\n",
    "\n",
    "    qa_prompt: PromptTemplate\n",
    "    retriever: BaseRetriever\n",
    "    multi_modal_llm: OpenAIMultiModal\n",
    "\n",
    "    def __init__(self, qa_prompt: Optional[PromptTemplate] = None, **kwargs) -> None:\n",
    "        \"\"\"Initialize.\"\"\"\n",
    "        super().__init__(qa_prompt=qa_prompt or QA_PROMPT, **kwargs)\n",
    "\n",
    "    def custom_query(self, query_str: str):\n",
    "        # retrieve text nodes\n",
    "        nodes = self.retriever.retrieve(query_str)\n",
    "        # create ImageNode items from text nodes\n",
    "        image_nodes = [\n",
    "            NodeWithScore(node=ImageNode(image_path=n.metadata[\"image_path\"]))\n",
    "            for n in nodes\n",
    "        ]\n",
    "\n",
    "        # create context string from text nodes, dump into the prompt\n",
    "        context_str = \"\\n\\n\".join(\n",
    "            [r.get_content(metadata_mode=MetadataMode.LLM) for r in nodes]\n",
    "        )\n",
    "        fmt_prompt = self.qa_prompt.format(context_str=context_str, query_str=query_str)\n",
    "\n",
    "        # synthesize an answer from formatted text and images\n",
    "        llm_response = self.multi_modal_llm.complete(\n",
    "            prompt=fmt_prompt,\n",
    "            image_documents=[image_node.node for image_node in image_nodes],\n",
    "        )\n",
    "        return Response(\n",
    "            response=str(llm_response),\n",
    "            source_nodes=nodes,\n",
    "            metadata={\"text_nodes\": nodes, \"image_nodes\": image_nodes},\n",
    "        )"
   ]
  },
  {
   "cell_type": "code",
   "execution_count": 110,
   "id": "0890be59-fb12-4bb5-959b-b2d9600f7774",
   "metadata": {},
   "outputs": [],
   "source": [
    "query_engine = MultimodalQueryEngine(\n",
    "    retriever=index.as_retriever(similarity_top_k=9), multi_modal_llm=gpt_4o\n",
    ")"
   ]
  },
  {
   "cell_type": "markdown",
   "id": "a92aa4f1-7501-4711-b054-f02338e54e74",
   "metadata": {},
   "source": [
    "### Define Baseline\n",
    "\n",
    "In addition, we define a \"baseline\" where we rely only on text-based indexing. Here we define an index using only the nodes that are parsed in text-mode from LlamaParse. \n",
    "\n",
    "**NOTE**: We don't currently include the markdown-parsed text because that was parsed with GPT-4o, so already uses a multimodal model during the text extraction phase.\n",
    "\n",
    "It is of course a valid experiment to compare RAG where multimodal extraction only happens during indexing, vs. the current multimodal RAG implementation where images are fed during synthesis to the LLM. "
   ]
  },
  {
   "cell_type": "code",
   "execution_count": 111,
   "id": "c0b15a48-d177-4666-aec2-98ee90664642",
   "metadata": {},
   "outputs": [],
   "source": [
    "def get_nodes(docs):\n",
    "    \"\"\"Split docs into nodes, by separator.\"\"\"\n",
    "    nodes = []\n",
    "    for doc in docs:\n",
    "        doc_chunks = doc.text.split(\"\\n---\\n\")\n",
    "        for doc_chunk in doc_chunks:\n",
    "            node = TextNode(\n",
    "                text=doc_chunk,\n",
    "                metadata=deepcopy(doc.metadata),\n",
    "            )\n",
    "            nodes.append(node)\n",
    "\n",
    "    return nodes"
   ]
  },
  {
   "cell_type": "code",
   "execution_count": 112,
   "id": "2065d2c6-d6ba-4ee3-8e9e-dbc83cbcec1b",
   "metadata": {},
   "outputs": [],
   "source": [
    "base_nodes = get_nodes(docs_text)"
   ]
  },
  {
   "cell_type": "code",
   "execution_count": 113,
   "id": "bcaea1a8-26c9-4385-8f62-32855aa898b6",
   "metadata": {},
   "outputs": [
    {
     "name": "stdout",
     "output_type": "stream",
     "text": [
      "Our Differentiated Portfolio: Deep; Durable and Diverse\n",
      "                              20 BBOE of Resource                                           Diverse Production Base\n",
      "                            Under $40/BBL Cost of Supply                              10-Year Plan Cumulative Production (BBOE)\n",
      "      S50                   S32/BBL                                                Lower 48                           Alaska\n",
      "                    Average Cost of Supply\n",
      "  3 $40                                                                                                                       GKA        GWA\n",
      "                                                                                                                      GPA     WNS\n",
      "      $30                                                                                                             EMENA\n",
      "  3                                                                                                                              Norway\n",
      "  8   $20\n",
      "  E                                                                                                                   Qatar      Libya\n",
      "                                                                                                                      Asia Pacific Canada\n",
      "      $10                                                                          Permian\n",
      "                                                                                                                      APLNG        Montney\n",
      "       S0\n",
      "                                               10              15              20                         Bakken\n",
      "                                         Resource (BBOE)                           Eagle Ford             Other       Malaysia ChinaSurmont\n",
      "                 Lower 48      Canada       Alaska      EMENA    Asia Pacific\n",
      "Costs assumemid-cycle price environment of S60/BBL WTI:\n",
      "                                                                                                                                           ConocoPhillips\n"
     ]
    }
   ],
   "source": [
    "print(base_nodes[13].get_content(metadata_mode=\"all\"))"
   ]
  },
  {
   "cell_type": "code",
   "execution_count": 114,
   "id": "f6bcfbc6-4e9b-41ad-ad81-1c4245b95cd5",
   "metadata": {},
   "outputs": [
    {
     "name": "stderr",
     "output_type": "stream",
     "text": [
      "INFO:httpx:HTTP Request: POST https://api.openai.com/v1/embeddings \"HTTP/1.1 200 OK\"\n"
     ]
    }
   ],
   "source": [
    "base_index = VectorStoreIndex(base_nodes, embed_model=embed_model)\n",
    "base_query_engine = base_index.as_query_engine(llm=llm, similarity_top_k=9)"
   ]
  },
  {
   "cell_type": "markdown",
   "id": "1f94ef26-0df5-4468-a156-903d686f02ce",
   "metadata": {},
   "source": [
    "## Build a Multimodal Agent\n",
    "\n",
    "Build an agent around the multimodal query engine. This gives you agent capabilities like query planning/decomposition and memory around a central QA interface."
   ]
  },
  {
   "cell_type": "code",
   "execution_count": 115,
   "id": "5b7a8c5f-39fc-4d04-8c56-3642f5718437",
   "metadata": {},
   "outputs": [],
   "source": [
    "from llama_index.core.tools import QueryEngineTool, ToolMetadata\n",
    "from llama_index.core.agent import ReActAgent\n",
    "\n",
    "vector_tool = QueryEngineTool(\n",
    "    query_engine=query_engine,\n",
    "    metadata=ToolMetadata(\n",
    "        name=\"vector_tool\",\n",
    "        description=\"Useful for retrieving specific context from the data. Do NOT select if question asks for a summary of the data.\"\n",
    "    )\n",
    ")\n",
    "\n",
    "agent = ReActAgent.from_tools([vector_tool], llm=llm, verbose=True)"
   ]
  },
  {
   "cell_type": "code",
   "execution_count": 118,
   "id": "2b4f7eb1-d247-45fa-bb41-c02fc353a22a",
   "metadata": {},
   "outputs": [],
   "source": [
    "base_vector_tool = QueryEngineTool(\n",
    "    query_engine=base_query_engine,\n",
    "    metadata=ToolMetadata(\n",
    "        name=\"vector_tool\",\n",
    "        description=\"Useful for retrieving specific context from the data. Do NOT select if question asks for a summary of the data.\"\n",
    "    )\n",
    ")\n",
    "\n",
    "base_agent = ReActAgent.from_tools([base_vector_tool], llm=llm, verbose=True)"
   ]
  },
  {
   "cell_type": "markdown",
   "id": "2336f98b-c0a1-413a-849d-8a89bacb90b5",
   "metadata": {},
   "source": [
    "## Try out Queries\n",
    "\n",
    "Let's try out queries against these documents and compare against each other."
   ]
  },
  {
   "cell_type": "code",
   "execution_count": 117,
   "id": "1cdce5d8-6bb3-4cd3-929d-1cec249d9052",
   "metadata": {},
   "outputs": [
    {
     "name": "stdout",
     "output_type": "stream",
     "text": [
      "> Running step 73d53dd0-1680-4102-9c4a-503bba8b0327. Step input: How does the Conoco Phillips capex/EUR in the delaware basin compare against other competitors?\n"
     ]
    },
    {
     "name": "stderr",
     "output_type": "stream",
     "text": [
      "INFO:httpx:HTTP Request: POST https://api.openai.com/v1/chat/completions \"HTTP/1.1 200 OK\"\n"
     ]
    },
    {
     "name": "stdout",
     "output_type": "stream",
     "text": [
      "\u001b[1;3;38;5;200mThought: The current language of the user is English. I need to use a tool to help me answer the question.\n",
      "Action: vector_tool\n",
      "Action Input: {'input': 'Conoco Phillips capex/EUR in the Delaware Basin compared to competitors'}\n",
      "\u001b[0m"
     ]
    },
    {
     "name": "stderr",
     "output_type": "stream",
     "text": [
      "INFO:httpx:HTTP Request: POST https://api.openai.com/v1/embeddings \"HTTP/1.1 200 OK\"\n",
      "INFO:httpx:HTTP Request: POST https://api.openai.com/v1/chat/completions \"HTTP/1.1 200 OK\"\n"
     ]
    },
    {
     "name": "stdout",
     "output_type": "stream",
     "text": [
      "\u001b[1;3;34mObservation: ConocoPhillips' capex/EUR in the Delaware Basin is $8/BOE, which is lower compared to its competitors. The competitors' capex/EUR ranges from $10/BOE to $24/BOE.\n",
      "\n",
      "This information was obtained from the image on page 38, which shows a bar chart comparing the capex/EUR of ConocoPhillips and its competitors in the Delaware Basin. The parsed markdown text also confirms this data, listing ConocoPhillips at $8/BOE and competitors ranging from $10/BOE to $24/BOE. There are no discrepancies between the image and the parsed markdown text.\n",
      "\u001b[0m> Running step f551acef-d4d6-494d-8356-e716563189d0. Step input: None\n"
     ]
    },
    {
     "name": "stderr",
     "output_type": "stream",
     "text": [
      "INFO:httpx:HTTP Request: POST https://api.openai.com/v1/chat/completions \"HTTP/1.1 200 OK\"\n"
     ]
    },
    {
     "name": "stdout",
     "output_type": "stream",
     "text": [
      "\u001b[1;3;38;5;200mThought: I can answer without using any more tools. I'll use the user's language to answer.\n",
      "Answer: ConocoPhillips' capex/EUR in the Delaware Basin is $8/BOE, which is lower compared to its competitors. The competitors' capex/EUR ranges from $10/BOE to $24/BOE.\n",
      "\u001b[0mConocoPhillips' capex/EUR in the Delaware Basin is $8/BOE, which is lower compared to its competitors. The competitors' capex/EUR ranges from $10/BOE to $24/BOE.\n",
      "\n",
      "Source nodes found:\n",
      "\n",
      "Node 0:\n",
      "page_num: 38\n",
      "image_path: data_images_rag\\a0af2de7-8064-4372-9094-0c91b54ed38f-page-37.jpg\n",
      "parsed_text_markdown: # Delaware: Vast Inventory with Proven Track Record of Performance\n",
      "\n",
      "## Prolific Acreage Spanning Over ~659,000 Net Acres¹\n",
      "\n",
      "![Map of Delaware Basin](image)\n",
      "\n",
      "### Total 10-Year Operated Permian Inventory\n",
      "\n",
      "- Delaware Basin: 65%\n",
      "- Midland Basin: 35%\n",
      "\n",
      "### High Single-Digit Production Growth\n",
      "\n",
      "## 12-Month Cumulative Production³ (BOE/FT)\n",
      "\n",
      "| Months | 2019 | 2020 | 2021 | 2022 |\n",
      "|--------|------|------|------|------|\n",
      "| 1      | 0    | 0    | 0    | 0    |\n",
      "| 2      | 2    | 2.5  | 3    | 3.5  |\n",
      "| 3      | 4    | 5    | 6    | 7    |\n",
      "| 4      | 6    | 7.5  | 9    | 10.5 |\n",
      "| 5      | 8    | 10   | 12   | 14   |\n",
      "| 6      | 10   | 12.5 | 15   | 17.5 |\n",
      "| 7      | 12   | 15   | 18   | 21   |\n",
      "| 8      | 14   | 17.5 | 21   | 24.5 |\n",
      "| 9      | 16   | 20   | 24   | 28   |\n",
      "| 10     | 18   | 22.5 | 27   | 31.5 |\n",
      "| 11     | 20   | 25   | 30   | 35   |\n",
      "| 12     | 22   | 27.5 | 33   | 38.5 |\n",
      "\n",
      "- ~30% Improved Performance from 2019 to 2022\n",
      "\n",
      "## Delaware Basin Well Capex/EUR⁴ ($/BOE)\n",
      "\n",
      "| Company          | Capex/EUR |\n",
      "|------------------|-----------|\n",
      "| ConocoPhillips   | 8         |\n",
      "| Competitor 1     | 10        |\n",
      "| Competitor 2     | 12        |\n",
      "| Competitor 3     | 14        |\n",
      "| Competitor 4     | 16        |\n",
      "| Competitor 5     | 18        |\n",
      "| Competitor 6     | 20        |\n",
      "| Competitor 7     | 22        |\n",
      "| Competitor 8     | 24        |\n",
      "\n",
      "---\n",
      "\n",
      "¹ Unconventional acres.  \n",
      "² Source: Enverus and ConocoPhillips (March 2023).  \n",
      "³ Source: Enverus (March 2023) based on wells online year.  \n",
      "⁴ Source: Enverus (March 2023). Average single well capex/EUR. Top eight public operators based on wells online in years 2021-2022, greater than 50% oil weight. COP based on COP well design. Competitors include: CVX, DVN, EOG, MTDR, OXY, PR and XOM.\n",
      "parsed_text: Delaware: Vast Inventory with Proven Track Record of Performance\n",
      "        New                       Prolific Acreage Spanning Over                                                        12-Month Cumulative Production? (BOE/FT)\n",
      "       Mexico                                 659,000 Net Acres'                                             40\n",
      "                       Texas                                                                                                                                                                       3828\n",
      "                                                                                                             30                                                                                    2019\n",
      "                                                                                                             20                                                                            30%\n",
      "                                                                                                             10                                                         Improved Performancefrom 2019 to 2022\n",
      "           Total\n",
      "   Permian Inventory\n",
      "                    10-Year Operated\n",
      "                                                                                                                            2                                                      10     11     12\n",
      "                                                                                                                                                        Months\n",
      "                                                                                                                         Delaware Basin Well Capex/EUR4 (S/BOE)\n",
      "                      65%                                                                                     25\n",
      "          Delaware Basin                                                                                      20\n",
      "          Midland Basin                                                                                       15\n",
      "                                              Low         High Cost of Supplyz                                10  ConocoPhillips\n",
      "     High Single-Digit Production Growth\n",
      " \"Unconventional acres. 2Source: Enverus and ConocoPhillips (March 2023). 3Source Enverus (March 2023) based on wells online year: \"Source; Enverus (March 2023). Average single well capex/EUR Top eight public operators based on\n",
      "wells online in years 2021-2022, greater than 50% oil weight; COP based on COP well design: Competitors include; CVX DVN, EOG; MTDR, OXY, PR and XOM:                                     ConocoPhillips\n",
      "\n",
      "Node 1:\n",
      "page_num: 37\n",
      "image_path: data_images_rag\\a0af2de7-8064-4372-9094-0c91b54ed38f-page-36.jpg\n",
      "parsed_text_markdown: # Deep, Durable and Diverse Portfolio with Significant Growth Runway\n",
      "\n",
      "## 2022 Lower 48 Unconventional Production¹ (MBOED)\n",
      "\n",
      "| Company          | Production (MBOED) |\n",
      "|------------------|--------------------|\n",
      "| ConocoPhillips   | 800                |\n",
      "| Competitor 1     | 700                |\n",
      "| Competitor 2     | 700                |\n",
      "| Competitor 3     | 600                |\n",
      "| Competitor 4     | 600                |\n",
      "| Competitor 5     | 500                |\n",
      "| Competitor 6     | 400                |\n",
      "\n",
      "## Net Remaining Well Inventory²\n",
      "\n",
      "| Company          | Well Inventory     |\n",
      "|------------------|--------------------|\n",
      "| ConocoPhillips   | 13,000             |\n",
      "| Competitor 1     | 10,000             |\n",
      "| Competitor 2     | 10,000             |\n",
      "| Competitor 3     | 8,000              |\n",
      "| Competitor 4     | 8,000              |\n",
      "| Competitor 5     | 6,000              |\n",
      "| Competitor 6     | 4,000              |\n",
      "\n",
      "## Cost of Supply\n",
      "\n",
      "| Resource (BBOE)  | WTI Cost of Supply ($/BBL) |\n",
      "|------------------|----------------------------|\n",
      "| 0                | $0                         |\n",
      "| 2                | $10                        |\n",
      "| 4                | $20                        |\n",
      "| 6                | $30                        |\n",
      "| 8                | $40                        |\n",
      "| 10               | $50                        |\n",
      "\n",
      "- Delaware Basin\n",
      "- Midland Basin\n",
      "- Eagle Ford\n",
      "- Bakken\n",
      "- Other\n",
      "\n",
      "**~$32/BBL**  \n",
      "Average Cost of Supply\n",
      "\n",
      "---\n",
      "\n",
      "**Largest Lower 48 Unconventional Producer, Growing into the Next Decade**\n",
      "\n",
      "---\n",
      "\n",
      "¹Source: Wood Mackenzie Lower 48 Unconventional Plays 2022 Production. Competitors include CVX, DVN, EOG, FANG, MRO, OXY, PXD and XOM, greater than 50% liquids weight.  \n",
      "²Source: Wood Mackenzie (March 2023), Lower 48\n",
      "\n",
      "ConocoPhillips\n",
      "parsed_text: Deep, Durable and Diverse Portfolio with Significant Growth Runway\n",
      "    1,200 2022 Lower 48 Unconventional Production' (MBOED                                                 S50     ~S32/BBL\n",
      "     000 ConocoPhillips                                                                                                   Cost of SupplyAverage\n",
      "       00                                                                                                 S40\n",
      "      500                                                                                            3\n",
      "      400                                                                                            1    S30\n",
      "     200\n",
      "                                                                                                      5\n",
      "   15,000 ConocoPhillipsNet Remaining Well Inventory?                                                 1   S20\n",
      "   12,000                                                                                                 S10\n",
      "      000\n",
      "      0o0                                                                                                  SO\n",
      "     3,000                                                                                                                                                                         10\n",
      "                                                                                                                                                Resource (BBOE)\n",
      "                                                                                                                    Delaware Basin      Midland Basin      Eagle Ford       Bakken        Other\n",
      "                        Largest Lower 48 Unconventional Producer; Growing into the Next Decade\n",
      " onshore operated inventory that achieves 15% IRR at $SO/BBL WTI, Competitors include CVX, DVN, EOG, FANG, MRO, OXY, PXD, and XOM:\n",
      "                                                                                                                                  Source: Wood Mackenzie Lower 48 Unconventional Plays 2022 Production Competitors include CVX, DVN; EOG, FANG, MRO, OXY, PXD and XOM; greater than 50% liquids weight: ?Source: Wood Mackenzie (March 2023), Lower 48\n",
      "                                                                                                                                                                                  ConocoPhillips\n",
      "\n",
      "Node 2:\n",
      "page_num: 39\n",
      "image_path: data_images_rag\\a0af2de7-8064-4372-9094-0c91b54ed38f-page-38.jpg\n",
      "parsed_text_markdown: # Midland: Acreage in the Heart of Liquids-Rich Basin\n",
      "\n",
      "## High-Margin Play Spanning Over ~251,000 Net Acres¹\n",
      "\n",
      "![Map of Texas and New Mexico highlighting the Delaware Basin and Midland Basin]\n",
      "\n",
      "### Total 10-Year Operated Permian Inventory\n",
      "- 35% Midland Basin\n",
      "- Delaware Basin\n",
      "\n",
      "### Cost of Supply²\n",
      "- Low to High\n",
      "\n",
      "### 12-Month Cumulative Production³ (BOE/FT)\n",
      "- Improved Performance from 2019 to 2022 (~6%)\n",
      "\n",
      "| Months | 1 | 2 | 3 | 4 | 5 | 6 | 7 | 8 | 9 | 10 | 11 | 12 |\n",
      "|--------|---|---|---|---|---|---|---|---|---|----|----|----|\n",
      "| 2019   | 0 |   |   |   |   |   |   |   |   |    |    | 25 |\n",
      "| 2020-2022 | 0 |   |   |   |   |   |   |   |   |    |    | 30 |\n",
      "\n",
      "### Midland Basin Well Capex/EUR⁴ ($/BOE)\n",
      "\n",
      "| Company         | Capex/EUR ($/BOE) |\n",
      "|-----------------|-------------------|\n",
      "| Competitor 1    | 15                |\n",
      "| Competitor 2    | 20                |\n",
      "| Competitor 3    | 25                |\n",
      "| ConocoPhillips  | 10                |\n",
      "| Competitor 4    | 20                |\n",
      "| Competitor 5    | 25                |\n",
      "| Competitor 6    | 30                |\n",
      "\n",
      "### Low to Mid Single-Digit Production Growth\n",
      "\n",
      "---\n",
      "\n",
      "¹ Unconventional acres.  \n",
      "² Source: Enverus and ConocoPhillips (March 2023).  \n",
      "³ Source: Enverus (March 2023) based on wells online year.  \n",
      "⁴ Source: Enverus (March 2023). Average single well capex/EUR. Top eight public operators based on wells online in years 2021-2022, greater than 50% oil weight. Competitors include FANG, OVV, OXY, PXD, SM, VTLE and XOM.\n",
      "parsed_text:     Midland: Acreage in the Heart of Liquids-Rich Basin\n",
      "                     New                                            High-Margin Play Spanning Over                                                                                                                                            12-Month Cumulative Production? (BOE/FT)\n",
      "                  Mexico                                                                    ~251,000 Net Acres'                                                                                                          30\n",
      "                                                  Texas                                                                                                                                                                                                                                                                                                                              2020-2022\n",
      "                                                                                                                                                                                                                          20                                                                                                                                                                     2019\n",
      "                                                                                                                                                                                                                          10                                                                                                                                                    ~6%\n",
      "                                                                                                                                                                                                                                                                                                                                           Improved Performancefrom 2019 to 2022\n",
      "                          Total\n",
      "          Permian Inventory\n",
      "                           10-Year Operated\n",
      "                                                                                                                                                                                                                                                      2            3                                                                                              10           11             12\n",
      " 35%                                                                                                                                                                                                                                                                                                        Months\n",
      "                                                                                                                                                                                                                                                   Midland Basin Well Capex/EUR4 (S/BOE)\n",
      "                                                                                                                                                                                                                         25\n",
      "                       Delaware Basin                                                                                                                                                                                     20\n",
      "                       Midland Basin                                                                                                                                                                                      15                                                                    ConocoPhillips\n",
      "                                                                                               Low                    High Cost of Supplyz                                                                                10\n",
      "Low to Mid Single-Digit Production Growth\n",
      "     4Source; Enverus (March 2023). Average single well capex/EUR Top eight public operators based on wells online in years 2021-2022, greater\n",
      "                                                                                                                                              IUnconventional acres; ?Source: Enverus and ConocoPhillips (March 2023). 3Source; Enverus (March 2023) based on wells online year: than 50% oil weight Competitors include FANG, OVV, OXY;, PXD, SM; VTLE and XOM;               ConocoPhillips\n",
      "\n",
      "Node 3:\n",
      "page_num: 42\n",
      "image_path: data_images_rag\\a0af2de7-8064-4372-9094-0c91b54ed38f-page-41.jpg\n",
      "parsed_text_markdown: # Eagle Ford and Bakken Delivering Material Free Cash Flow\n",
      "\n",
      "## ~199,000 Net Acres¹ in Eagle Ford\n",
      "## ~560,000 Net Acres¹ in Bakken\n",
      "\n",
      "![Eagle Ford and Bakken Map](image)\n",
      "\n",
      "### Consistent and Proven Track Record in Basin Sweet Spots\n",
      "\n",
      "#### Eagle Ford Well Capex/EUR³ ($/BOE)\n",
      "\n",
      "| Company         | Capex/EUR ($/BOE) |\n",
      "|-----------------|-------------------|\n",
      "| ConocoPhillips  | 10                |\n",
      "| Competitor 1    | 15                |\n",
      "| Competitor 2    | 20                |\n",
      "| Competitor 3    | 25                |\n",
      "| Competitor 4    | 30                |\n",
      "\n",
      "#### Bakken Well Capex/EUR⁴ ($/BOE)\n",
      "\n",
      "| Company         | Capex/EUR ($/BOE) |\n",
      "|-----------------|-------------------|\n",
      "| ConocoPhillips  | 5                 |\n",
      "| Competitor 1    | 10                |\n",
      "| Competitor 2    | 15                |\n",
      "| Competitor 3    | 20                |\n",
      "| Competitor 4    | 25                |\n",
      "\n",
      "### Sustains Production Over the Decade\n",
      "\n",
      "#### Production (MBOED)\n",
      "\n",
      "| Year Range       | Bakken | Eagle Ford |\n",
      "|------------------|--------|------------|\n",
      "| 2023E            | 150    | 150        |\n",
      "| 2024-2028 Average| 150    | 200        |\n",
      "| 2029-2032 Average| 150    | 200        |\n",
      "\n",
      "### Delivers ~$20B FCF\n",
      "### Over the Next 10 Years at $60/BBL WTI\n",
      "\n",
      "---\n",
      "\n",
      "¹Unconventional acres.  \n",
      "²Source: Enverus and ConocoPhillips (March 2023).  \n",
      "³Source: Enverus (March 2023); Average single well capex/EUR; Top eight public operators based on wells online in vintage years 2019-2022, greater than 50% oil weight; Competitors include: BP, CHK, CPE, DVN, EOG, MRO, XOM.  \n",
      "⁴Source: Enverus (March 2023); Average single well capex/EUR; Top eight operators based on wells online in vintage years 2019-2022, greater than 50% oil weight; Competitors include: CHRD, Continental, DVN, ERF, HES, MRO, XOM.  \n",
      "Free cash flow (FCF) is a non-GAAP measure defined in the Appendix.\n",
      "parsed_text: Eagle Ford and Bakken Delivering Material Free Cash Flow\n",
      "     199,000 Net Acres' in Eagle Ford                                                       Consistent and Proven Track Record                                                                               Sustains Production\n",
      "     ~560,000 Net Acres' in Bakken                                                                             in Basin Sweet Spots                                                                              Over the Decade\n",
      "                                                                                          30                Eagle Ford Well Capex/EUR?                               IBOE)                                         Production (MBOED)\n",
      "                                                                                                                                                                                                  400\n",
      "                  Texas\n",
      "                                                                                          20                                                                                                       300\n",
      "                                                                                                          ConocoPhillips\n",
      "                                                                                          10\n",
      "                                                                                                                                                                                                   200\n",
      "                                                   Eagle Ford\n",
      "                                                                                                                                                                                                   100\n",
      "            Montana              North                                                                       Bakken Well Capex/EUR4 (S/BOE)\n",
      "                                Dakota                                                    15\n",
      "                                                                                                                                                                                                                 2023E             2024-2028           2029-2032\n",
      "                                                                                                                                                                                                                                    Average              Average\n",
      "                                                                                          10 ConocoPhillips                                                                                                                 Bakken         Eagle Ford\n",
      "                         Bakken                                                                                                                                                                     Delivers ~S20B FCF\n",
      "                               Low             High Cost of Supply?                                                                                                                                  Over the Next 10 Years at $60/BBL WTI\n",
      " 50% oil weight; Competitors include: BP; CHK, CPE; DVN; EOG, MGY and MRO: \"Source: Enverus (March 2023); Average single well capex/EUR; Top eight operators based on wells online in vintage years 2019-2022, greater than 50%\n",
      "                                                                                                                                                                                                                               IUnconventional acres; ?Source Enverus andConocoPhillips (March 2023).  Source; Enverus (March 2023); Average single well capex/EUR; Top eight public operators based on wells online in vintage years 2019-2022, greater than\n",
      " oil weight; Competitors include CHRD Continental; DVN, ERF, HES MRO and XOM;                                                                                                                                                                         ConocoPhillips\n",
      " Free cash flow (FCF) is  non-GAAP measure defined in the Appendix;\n",
      "\n",
      "Node 4:\n",
      "page_num: 48\n",
      "image_path: data_images_rag\\a0af2de7-8064-4372-9094-0c91b54ed38f-page-47.jpg\n",
      "parsed_text_markdown: # Committed to Top-Quartile Returns on Capital\n",
      "\n",
      "## Five-Year Average ROCE<sup>1</sup>\n",
      "**Peer-Leading ROCE Performance**\n",
      "\n",
      "| Company          | ROCE (%) |\n",
      "|------------------|----------|\n",
      "| ConocoPhillips   | 14%      |\n",
      "| Independent Peers<sup>2</sup> | 12%      |\n",
      "| Independent Peers<sup>2</sup> | 10%      |\n",
      "| Integrated Peers<sup>2</sup>  | 8%       |\n",
      "| Integrated Peers<sup>2</sup>  | 6%       |\n",
      "| Integrated Peers<sup>2</sup>  | 4%       |\n",
      "| Integrated Peers<sup>2</sup>  | 2%       |\n",
      "\n",
      "## Earnings ($B)\n",
      "**Low Cost of Supply Investments Fuel Expanding Margins**\n",
      "\n",
      "| Year Range       | Earnings ($B) |\n",
      "|------------------|---------------|\n",
      "| 2023E            | 10            |\n",
      "| 2024-2028 Average| 20            |\n",
      "| 2029-2032 Average| 30            |\n",
      "\n",
      "**~10% CAGR 2024-2032 at $60/BBL WTI**\n",
      "\n",
      "## Return on Capital Employed (ROCE)\n",
      "**Near-Term Delivery of S&P 500 Top-Quartile ROCE**\n",
      "\n",
      "| Year Range       | ROCE (%) |\n",
      "|------------------|----------|\n",
      "| 2023E            | 10       |\n",
      "| 2024-2028 Average| 20       |\n",
      "| 2029-2032 Average| 30       |\n",
      "\n",
      "**S&P 500 Top Quartile<sup>3</sup>**\n",
      "\n",
      "| Year Range       | ROCE (%) |\n",
      "|------------------|----------|\n",
      "| 2023E            | 10       |\n",
      "| 2024-2028 Average| 20       |\n",
      "| 2029-2032 Average| 30       |\n",
      "\n",
      "**$60/BBL WTI Mid-Cycle Planning Price**\n",
      "\n",
      "**$80/BBL WTI Upside Sensitivity**\n",
      "\n",
      "---\n",
      "\n",
      "<sup>1</sup>Source: Bloomberg Return on Capital 2018 through 2022.  \n",
      "<sup>2</sup>Integrated peers include CVX and XOM. Independent peers include APA, DVN, EOG, HES, OXY and PXD.  \n",
      "<sup>3</sup>Represents top quartile of five-year average ROCE (2018-2022).  \n",
      "Earnings refers to net income. Return on capital employed (ROCE) is a non-GAAP measure defined in the Appendix.\n",
      "parsed_text: Committed to Top-Quartile Returns on Capital\n",
      "                                    Five-Year Average ROCE'                                                                                              30 Low Cost of Supply Investments Fuel Expanding MarginsEarnings (SB)\n",
      "                                     Peer-Leading ROCE Performance\n",
      "                                                                                                                                                                                     2024-2032 at $60/BBL WTI10% CAGR\n",
      "                                                                                                                                                         20\n",
      " 14% ConocoPhillips\n",
      "                                                                                                                                                         10\n",
      " 12%\n",
      "                                                                                                                                                                           2023E                         2024-2028                        2029-2032\n",
      " 109                                                                                                                                                                                                       Average                          Average\n",
      "                                                                                                                                                                  Near-Term Delivery of S&P 500 Top-Quartile ROCE\n",
      "                                                                                                                                                                                                                 Return on Capital Employed (ROCE)\n",
      "                                                                                                                                                        40%\n",
      "                                                                                                                                                        30%\n",
      "   4%                                                                                                                                                   20%           s&P 500 Top Quartile?\n",
      "                                                                                                                                                         0%\n",
      "   2%\n",
      "                                                                                                                                                                              2023E                          2024-2028                         2029-2032\n",
      "   0%                                                                                                                                                                                                         Average                           Average\n",
      "                                   Independent Peers?                     Integrated Peers?                                                                          S6O/BBL WTI Mid-Cycle Planning Price                      S8O/BBL WTI Upside Sensitivity\n",
      "  Source: Bloomberg Return on Capital 2018 through 2022. 2Integrated peers include CVX and XOM Independent peers include APA; DVN; EOG, HES; OXY and PXD. 3Represents top quartile of five-year average ROCE (2018-2022)\n",
      " for constituents as of December 31, 2022\n",
      " Earnings refers to net income Return on capital employed (ROCE) is         non-GAAP measure defined in the Appendix                                                                                                                                    ConocoPhillips\n",
      "\n",
      "Node 5:\n",
      "page_num: 41\n",
      "image_path: data_images_rag\\a0af2de7-8064-4372-9094-0c91b54ed38f-page-40.jpg\n",
      "parsed_text_markdown: # Permian Drives Free Cash Flow in Lower 48\n",
      "\n",
      "## ~7%\n",
      "### 10-Year Production CAGR\n",
      "\n",
      "## ~50%\n",
      "### Reinvestment Rate¹\n",
      "\n",
      "## <$35/BBL\n",
      "### Program Cost of Supply\n",
      "\n",
      "### Production (MBOED)\n",
      "#### Growing to Plateau in the 2nd Decade\n",
      "\n",
      "| Year         | Production (MBOED) | FCF ($B) |\n",
      "|--------------|--------------------|----------|\n",
      "| 2023E        | 600                | 4        |\n",
      "| 2024-2028    | 900                | 8        |\n",
      "| 2029-2032    | 1,200              | 12       |\n",
      "\n",
      "- $60/BBL WTI Mid-Cycle Planning Price\n",
      "- $80/BBL WTI Upside Sensitivity\n",
      "\n",
      "### ~ $45B FCF Generated Over the Next 10 Years at $60/BBL WTI\n",
      "\n",
      "¹Over the next 10 years at $60/bbl.  \n",
      "Reinvestment rate and free cash flow (FCF) are non-GAAP measures defined in the Appendix.\n",
      "\n",
      "---\n",
      "\n",
      "### Top-Tier Permian Position, Growing into the Next Decade\n",
      "parsed_text: Permian Drives Free Cash Flow in Lower 48\n",
      "                                ~7%                                              ~50%                                              S35/BBL\n",
      "                               10-Year Production CAGR                          Reinvestment Ratel                            Program Cost of Supply\n",
      "  1,500                     Production (MBOED)                                            $12                                FCF (SB)\n",
      "                                              Growing to Plateau                                   ~S45B FCF\n",
      "                                                        in the 2nd Decade                 $10    Generated Over\n",
      "  1,200                                                                                        the Next 10 Yearsat $60/BBL WTI\n",
      "                                                                                           S8\n",
      "    900\n",
      "                                                                                           $6\n",
      "    600\n",
      "    300                                                                                    S2\n",
      "                                                                                           $0\n",
      "                  2023E               2024-2028              2029-2032                                  2023E                 2024-2028              2029-2032\n",
      "                                        Average                Average                                                         Average                Average\n",
      "                                                        S60/BBL WTI Mid-Cycle Planning Price S8O/BBL WTI Upside Sensitivity\n",
      "                                               Top-Tier Permian Position, Growing into the Next Decade\n",
      "\"Over the next 10 years at S60/bbl.\n",
      " Reinvestment rate and free cash flow (FCF) are non-GAAP measures defined in the Appendix                                                                   ConocoPhillips\n",
      "\n",
      "Node 6:\n",
      "page_num: 21\n",
      "image_path: data_images_rag\\a0af2de7-8064-4372-9094-0c91b54ed38f-page-20.jpg\n",
      "parsed_text_markdown: # Low Capital Intensity Production Growth\n",
      "\n",
      "## Material Low Cost of Supply Resource Base\n",
      "### Leveraging Existing Infrastructure\n",
      "\n",
      "**~$30/BBL**  \n",
      "Average Cost of Supply\n",
      "\n",
      "| WTI Cost of Supply ($/BBL) | Resource (BBOE) |\n",
      "|----------------------------|-----------------|\n",
      "| $50                        |                 |\n",
      "| $40                        |                 |\n",
      "| $30                        |                 |\n",
      "| $20                        |                 |\n",
      "| $10                        |                 |\n",
      "| $0                         | 0               |\n",
      "|                            | 3               |\n",
      "|                            | 6               |\n",
      "|                            | 9               |\n",
      "\n",
      "**Legend:**\n",
      "- **Blue:** LNG\n",
      "- **Purple:** Surmont\n",
      "- **Teal:** Montney\n",
      "- **Gray:** Conventional International\n",
      "- **Light Purple:** Alaska\n",
      "\n",
      "## Capital-Efficient Production Growth\n",
      "### Underpins Growing Distribution Capacity\n",
      "\n",
      "**Production Mix¹**\n",
      "- Oil ~60%\n",
      "- NGL ~5%\n",
      "- North American Gas ~5%\n",
      "- International Gas ~30%\n",
      "\n",
      "| Production (MBOED) | 2023E | 2024-2028 Average | 2029-2032 Average |\n",
      "|--------------------|-------|-------------------|-------------------|\n",
      "| 1,200              |       |                   |                   |\n",
      "| 1,000              |       |                   |                   |\n",
      "| 800                |       |                   |                   |\n",
      "| 600                |       |                   |                   |\n",
      "| 400                |       |                   |                   |\n",
      "| 200                |       |                   |                   |\n",
      "| 0                  |       |                   |                   |\n",
      "\n",
      "**Legend:**\n",
      "- **Blue:** LNG\n",
      "- **Light Blue:** Surmont\n",
      "- **Teal:** Montney\n",
      "- **Gray:** Conventional International\n",
      "- **Light Purple:** Alaska\n",
      "\n",
      "**4% CAGR at ~40% Reinvestment Rate**  \n",
      "Over the Next 10 Years at $60/BBL WTI\n",
      "\n",
      "---\n",
      "\n",
      "¹Average product mix from 2023-2032, oil includes bitumen.  \n",
      "Reinvestment rate is a non-GAAP measure defined in the Appendix.\n",
      "parsed_text: Low Capital Intensity Production Growth\n",
      "         Material Low Cost of Supply Resource Base                                                                Capital-Efficient Production Growth\n",
      "                                                                                                                    Underpins Growing Distribution Capacity\n",
      "                        Leveraging Existing Infrastructure\n",
      "        S50            S30/BBL                                                                     Production Mixl\n",
      "                               Average                                                             Oil   60%      NGL ~5%        North American Gas            5%    International Gas         30%\n",
      "        S40           Cost ofSupply                                                                      1,200\n",
      "   3 S30                                                                                              1    000\n",
      "   1 S20                                                                                                   800\n",
      "                                                                                                           600\n",
      "    58                                                                                                     400\n",
      "    E   810                                                                                                200\n",
      "                                                                                                                            2023E                     2024-2028                   2029-2032\n",
      "          So                                                                                                                                           Average                     Average\n",
      "                                                                                                              LNG          Surmont         Montney          Conventional International        Alaska\n",
      "                                                Resource (BBOE)\n",
      "              LNG          Surmont         Montney          Conventional International  Alaska  4% CAGR at ~40% Reinvestment Rate\n",
      "                                                                                                 Over the Next 10 Years at $60/BBL WTI\n",
      "'Average product mix from 2023-2032, oil includes bitumen;\n",
      "Reinvestment rate   non-GAAP measure defined in the Appendix                                                                                                                            ConocoPhillips\n",
      "\n",
      "Node 7:\n",
      "page_num: 36\n",
      "image_path: data_images_rag\\a0af2de7-8064-4372-9094-0c91b54ed38f-page-35.jpg\n",
      "parsed_text_markdown: # Premier Lower 48 Assets Underpin Our Returns-Focused Strategy\n",
      "\n",
      "## Industry Leader Focused on Maximizing Returns\n",
      "\n",
      "- Largest Lower 48 unconventional producer with deep, durable and diverse unconventional portfolio\n",
      "- Disciplined development optimizing returns and recovery\n",
      "\n",
      "## Production and Free Cash Flow Growth into the Next Decade\n",
      "\n",
      "- Permian premising ~7% production growth, doubling free cash flow by end of decade\n",
      "- Eagle Ford and Bakken delivering material free cash flow\n",
      "\n",
      "## Delivering Continuous Improvements\n",
      "\n",
      "- Accelerating technology across four core basins to enhance value\n",
      "- Delivering on emissions reductions and sustainable development\n",
      "\n",
      "*Free cash flow (FCF) is a non-GAAP measure defined in the Appendix.*\n",
      "parsed_text: Premier Lower 48 Assets Underpin Our Returns-Focused Strategy\n",
      "           Industry Leader Focused                                Production and Free Cash Flow                                       Delivering Continuous\n",
      "             on Maximizing Returns                                  Growth into the Next Decade                                                Improvements\n",
      "       Largest Lower 48 unconventional\n",
      "        producer with deep, durable and                                 7% production growth; doublingPermian premising                 Accelerating technology\n",
      "                                                                                                                                          across four core basins\n",
      "        diverse unconventionalportfolio                                free cash flow by end of decade                                         to enhance value\n",
      "     Disciplined development optimizing                               delivering material free cash flowEagle Ford and Bakken  Delivering on emissions reductions\n",
      "                   returns and recovery                                                                                             and sustainable development\n",
      " Free cash flow (FCF) isnon-GAAP measure defined in the Appendix                                                                                                   ConocoPhillips\n",
      "\n",
      "Node 8:\n",
      "page_num: 55\n",
      "image_path: data_images_rag\\a0af2de7-8064-4372-9094-0c91b54ed38f-page-54.jpg\n",
      "parsed_text_markdown: # ConocoPhillips Remains the Must-Own E&P Company\n",
      "\n",
      "## What You Heard Today\n",
      "\n",
      "We are committed to delivering superior returns on and of capital through the cycles\n",
      "\n",
      "---\n",
      "\n",
      "We have a deep, durable and diverse portfolio\n",
      "\n",
      "---\n",
      "\n",
      "We are progressing our 2050 Net-Zero ambition and accelerating our 2030 GHG emissions intensity reduction target\n",
      "\n",
      "## Foundational Principles\n",
      "\n",
      "- Balance Sheet Strength\n",
      "- Disciplined Investments\n",
      "- Peer-Leading Distributions\n",
      "- ESG Excellence\n",
      "\n",
      "**Deliver Superior Returns Through Cycles**\n",
      "\n",
      "## A Compelling Returns Focused 10-Year Plan\n",
      "\n",
      "- **Peer leading ROCE** improving through time\n",
      "- **Top quartile** ordinary dividend growth\n",
      "- **>90% market cap<sup>1</sup>** distributed\n",
      "- **~$35/BBL** WTI FCF Breakeven<sup>2</sup>\n",
      "- **~6% CFO CAGR, ~11% FCF CAGR**\n",
      "- Unhedged for **price upside**\n",
      "\n",
      "---\n",
      "\n",
      "<sup>1</sup> Market cap of ~$121B at March 31, 2023 close. <sup>2</sup> Average over the next ten years. CAGRs calculated from FY2024 at $60/BBL WTI. Cash from operations (CFO), free cash flow (FCF) and return on capital employed (ROCE) are non-GAAP measures defined in the appendix.\n",
      "\n",
      "ConocoPhillips\n",
      "parsed_text: ConocoPhillips Remains the Must-Own E&P Company\n",
      "                      What You                                                                 Foundational                                                      A Compelling Returns\n",
      "                   Heard Today                                                                  Principles                                                       Focused 10-Year Plan\n",
      "                 We are committed to                                                                  9                                                              improving through timePeer leading ROCE\n",
      "            delivering superior returns                                                           Balance Sheet\n",
      "                    on and of capital                                                                 Strength\n",
      "                   through the cycles                                                                                                                    Top quartile ordinary dividend growth\n",
      "            We have adeep, durable                                                                   RETURNS                  S)                               >90% market cap' distributed\n",
      "                and diverse portfolio                                         InvestmentsDisciplined                   Peer-Leading\n",
      "                                                                                                                       Distributions\n",
      "                                                                                                                                                                  S35/BBL WTI FCF Breakeven?\n",
      "                                                                                                         ESG\n",
      "               We are progressing our                                                                Excellence\n",
      "         2050 Net-Zero ambition and                                                                                                                             6% CFO CAGR, ~11% FCF CAGR\n",
      "   accelerating our 2030 GHG emissionsintensity reduction target                    Deliver Superior Returns\n",
      "                                                                                                                                                                  Unhedged for price upside\n",
      "                                                                                             Through Cycles\n",
      " \"Market cap of ~S1Z1B at March 31 2023 close. ~Average over the next ten years:\n",
      " CAGRs calculated from FY2024 at S60/BBL WTI Cash from operations (CFO); free cash flow (FCF) and return on capital employed (ROCE) are non-GAAP measures defined in the appendix                     ConocoPhillips\n",
      "\n",
      "Full response:\n",
      "ConocoPhillips' capex/EUR in the Delaware Basin is $8/BOE, which is lower compared to its competitors. The competitors' capex/EUR ranges from $10/BOE to $24/BOE.\n"
     ]
    }
   ],
   "source": [
    "response = agent.chat(\"How does the Conoco Phillips capex/EUR in the delaware basin compare against other competitors?\")\n",
    "print(str(response))\n",
    "\n",
    "if hasattr(response, 'source_nodes') and response.source_nodes:\n",
    "    print(\"\\nSource nodes found:\")\n",
    "    for i, node in enumerate(response.source_nodes):\n",
    "        print(f\"\\nNode {i}:\")\n",
    "        print(node.get_content(metadata_mode=\"all\"))\n",
    "else:\n",
    "    print(\"\\nNo source nodes found in the response.\")\n",
    "\n",
    "# Also, let's print the full response to see what we got\n",
    "print(\"\\nFull response:\")\n",
    "print(response)"
   ]
  },
  {
   "cell_type": "code",
   "execution_count": 119,
   "id": "d21d694b-6618-4d04-a6f6-8b0c2625f539",
   "metadata": {},
   "outputs": [
    {
     "name": "stdout",
     "output_type": "stream",
     "text": [
      "> Running step d6f1ee48-be2d-413a-b7ca-2ac39771dff9. Step input: How does the Conoco Phillips capex/EUR in the delaware basin compare against other competitors?\n"
     ]
    },
    {
     "name": "stderr",
     "output_type": "stream",
     "text": [
      "INFO:httpx:HTTP Request: POST https://api.openai.com/v1/chat/completions \"HTTP/1.1 200 OK\"\n"
     ]
    },
    {
     "name": "stdout",
     "output_type": "stream",
     "text": [
      "\u001b[1;3;38;5;200mThought: The current language of the user is: English. I need to use a tool to help me answer the question.\n",
      "Action: vector_tool\n",
      "Action Input: {'input': 'Conoco Phillips capex/EUR in the Delaware Basin compared to competitors'}\n",
      "\u001b[0m"
     ]
    },
    {
     "name": "stderr",
     "output_type": "stream",
     "text": [
      "INFO:httpx:HTTP Request: POST https://api.openai.com/v1/embeddings \"HTTP/1.1 200 OK\"\n",
      "INFO:httpx:HTTP Request: POST https://api.openai.com/v1/chat/completions \"HTTP/1.1 200 OK\"\n"
     ]
    },
    {
     "name": "stdout",
     "output_type": "stream",
     "text": [
      "\u001b[1;3;34mObservation: ConocoPhillips' capex/EUR in the Delaware Basin is lower compared to its competitors.\n",
      "\u001b[0m> Running step acfde3aa-a6f9-4aa7-8613-9389f8e86646. Step input: None\n"
     ]
    },
    {
     "name": "stderr",
     "output_type": "stream",
     "text": [
      "INFO:httpx:HTTP Request: POST https://api.openai.com/v1/chat/completions \"HTTP/1.1 200 OK\"\n"
     ]
    },
    {
     "name": "stdout",
     "output_type": "stream",
     "text": [
      "\u001b[1;3;38;5;200mThought: I have the information needed to answer the question.\n",
      "Answer: ConocoPhillips' capex/EUR in the Delaware Basin is lower compared to its competitors.\n",
      "\u001b[0mConocoPhillips' capex/EUR in the Delaware Basin is lower compared to its competitors.\n",
      "\n",
      "Source nodes found:\n",
      "\n",
      "Node 0:\n",
      "Delaware: Vast Inventory with Proven Track Record of Performance\n",
      "        New                       Prolific Acreage Spanning Over                                                        12-Month Cumulative Production? (BOE/FT)\n",
      "       Mexico                                 659,000 Net Acres'                                             40\n",
      "                       Texas                                                                                                                                                                       3828\n",
      "                                                                                                             30                                                                                    2019\n",
      "                                                                                                             20                                                                            30%\n",
      "                                                                                                             10                                                         Improved Performancefrom 2019 to 2022\n",
      "           Total\n",
      "   Permian Inventory\n",
      "                    10-Year Operated\n",
      "                                                                                                                            2                                                      10     11     12\n",
      "                                                                                                                                                        Months\n",
      "                                                                                                                         Delaware Basin Well Capex/EUR4 (S/BOE)\n",
      "                      65%                                                                                     25\n",
      "          Delaware Basin                                                                                      20\n",
      "          Midland Basin                                                                                       15\n",
      "                                              Low         High Cost of Supplyz                                10  ConocoPhillips\n",
      "     High Single-Digit Production Growth\n",
      " \"Unconventional acres. 2Source: Enverus and ConocoPhillips (March 2023). 3Source Enverus (March 2023) based on wells online year: \"Source; Enverus (March 2023). Average single well capex/EUR Top eight public operators based on\n",
      "wells online in years 2021-2022, greater than 50% oil weight; COP based on COP well design: Competitors include; CVX DVN, EOG; MTDR, OXY, PR and XOM:                                     ConocoPhillips\n",
      "\n",
      "Node 1:\n",
      "    Midland: Acreage in the Heart of Liquids-Rich Basin\n",
      "                     New                                            High-Margin Play Spanning Over                                                                                                                                            12-Month Cumulative Production? (BOE/FT)\n",
      "                  Mexico                                                                    ~251,000 Net Acres'                                                                                                          30\n",
      "                                                  Texas                                                                                                                                                                                                                                                                                                                              2020-2022\n",
      "                                                                                                                                                                                                                          20                                                                                                                                                                     2019\n",
      "                                                                                                                                                                                                                          10                                                                                                                                                    ~6%\n",
      "                                                                                                                                                                                                                                                                                                                                           Improved Performancefrom 2019 to 2022\n",
      "                          Total\n",
      "          Permian Inventory\n",
      "                           10-Year Operated\n",
      "                                                                                                                                                                                                                                                      2            3                                                                                              10           11             12\n",
      " 35%                                                                                                                                                                                                                                                                                                        Months\n",
      "                                                                                                                                                                                                                                                   Midland Basin Well Capex/EUR4 (S/BOE)\n",
      "                                                                                                                                                                                                                         25\n",
      "                       Delaware Basin                                                                                                                                                                                     20\n",
      "                       Midland Basin                                                                                                                                                                                      15                                                                    ConocoPhillips\n",
      "                                                                                               Low                    High Cost of Supplyz                                                                                10\n",
      "Low to Mid Single-Digit Production Growth\n",
      "     4Source; Enverus (March 2023). Average single well capex/EUR Top eight public operators based on wells online in years 2021-2022, greater\n",
      "                                                                                                                                              IUnconventional acres; ?Source: Enverus and ConocoPhillips (March 2023). 3Source; Enverus (March 2023) based on wells online year: than 50% oil weight Competitors include FANG, OVV, OXY;, PXD, SM; VTLE and XOM;               ConocoPhillips\n",
      "\n",
      "Node 2:\n",
      "Deep, Durable and Diverse Portfolio with Significant Growth Runway\n",
      "    1,200 2022 Lower 48 Unconventional Production' (MBOED                                                 S50     ~S32/BBL\n",
      "     000 ConocoPhillips                                                                                                   Cost of SupplyAverage\n",
      "       00                                                                                                 S40\n",
      "      500                                                                                            3\n",
      "      400                                                                                            1    S30\n",
      "     200\n",
      "                                                                                                      5\n",
      "   15,000 ConocoPhillipsNet Remaining Well Inventory?                                                 1   S20\n",
      "   12,000                                                                                                 S10\n",
      "      000\n",
      "      0o0                                                                                                  SO\n",
      "     3,000                                                                                                                                                                         10\n",
      "                                                                                                                                                Resource (BBOE)\n",
      "                                                                                                                    Delaware Basin      Midland Basin      Eagle Ford       Bakken        Other\n",
      "                        Largest Lower 48 Unconventional Producer; Growing into the Next Decade\n",
      " onshore operated inventory that achieves 15% IRR at $SO/BBL WTI, Competitors include CVX, DVN, EOG, FANG, MRO, OXY, PXD, and XOM:\n",
      "                                                                                                                                  Source: Wood Mackenzie Lower 48 Unconventional Plays 2022 Production Competitors include CVX, DVN; EOG, FANG, MRO, OXY, PXD and XOM; greater than 50% liquids weight: ?Source: Wood Mackenzie (March 2023), Lower 48\n",
      "                                                                                                                                                                                  ConocoPhillips\n",
      "\n",
      "Node 3:\n",
      "Eagle Ford and Bakken Delivering Material Free Cash Flow\n",
      "     199,000 Net Acres' in Eagle Ford                                                       Consistent and Proven Track Record                                                                               Sustains Production\n",
      "     ~560,000 Net Acres' in Bakken                                                                             in Basin Sweet Spots                                                                              Over the Decade\n",
      "                                                                                          30                Eagle Ford Well Capex/EUR?                               IBOE)                                         Production (MBOED)\n",
      "                                                                                                                                                                                                  400\n",
      "                  Texas\n",
      "                                                                                          20                                                                                                       300\n",
      "                                                                                                          ConocoPhillips\n",
      "                                                                                          10\n",
      "                                                                                                                                                                                                   200\n",
      "                                                   Eagle Ford\n",
      "                                                                                                                                                                                                   100\n",
      "            Montana              North                                                                       Bakken Well Capex/EUR4 (S/BOE)\n",
      "                                Dakota                                                    15\n",
      "                                                                                                                                                                                                                 2023E             2024-2028           2029-2032\n",
      "                                                                                                                                                                                                                                    Average              Average\n",
      "                                                                                          10 ConocoPhillips                                                                                                                 Bakken         Eagle Ford\n",
      "                         Bakken                                                                                                                                                                     Delivers ~S20B FCF\n",
      "                               Low             High Cost of Supply?                                                                                                                                  Over the Next 10 Years at $60/BBL WTI\n",
      " 50% oil weight; Competitors include: BP; CHK, CPE; DVN; EOG, MGY and MRO: \"Source: Enverus (March 2023); Average single well capex/EUR; Top eight operators based on wells online in vintage years 2019-2022, greater than 50%\n",
      "                                                                                                                                                                                                                               IUnconventional acres; ?Source Enverus andConocoPhillips (March 2023).  Source; Enverus (March 2023); Average single well capex/EUR; Top eight public operators based on wells online in vintage years 2019-2022, greater than\n",
      " oil weight; Competitors include CHRD Continental; DVN, ERF, HES MRO and XOM;                                                                                                                                                                         ConocoPhillips\n",
      " Free cash flow (FCF) is  non-GAAP measure defined in the Appendix;\n",
      "\n",
      "Node 4:\n",
      "Committed to Top-Quartile Returns on Capital\n",
      "                                    Five-Year Average ROCE'                                                                                              30 Low Cost of Supply Investments Fuel Expanding MarginsEarnings (SB)\n",
      "                                     Peer-Leading ROCE Performance\n",
      "                                                                                                                                                                                     2024-2032 at $60/BBL WTI10% CAGR\n",
      "                                                                                                                                                         20\n",
      " 14% ConocoPhillips\n",
      "                                                                                                                                                         10\n",
      " 12%\n",
      "                                                                                                                                                                           2023E                         2024-2028                        2029-2032\n",
      " 109                                                                                                                                                                                                       Average                          Average\n",
      "                                                                                                                                                                  Near-Term Delivery of S&P 500 Top-Quartile ROCE\n",
      "                                                                                                                                                                                                                 Return on Capital Employed (ROCE)\n",
      "                                                                                                                                                        40%\n",
      "                                                                                                                                                        30%\n",
      "   4%                                                                                                                                                   20%           s&P 500 Top Quartile?\n",
      "                                                                                                                                                         0%\n",
      "   2%\n",
      "                                                                                                                                                                              2023E                          2024-2028                         2029-2032\n",
      "   0%                                                                                                                                                                                                         Average                           Average\n",
      "                                   Independent Peers?                     Integrated Peers?                                                                          S6O/BBL WTI Mid-Cycle Planning Price                      S8O/BBL WTI Upside Sensitivity\n",
      "  Source: Bloomberg Return on Capital 2018 through 2022. 2Integrated peers include CVX and XOM Independent peers include APA; DVN; EOG, HES; OXY and PXD. 3Represents top quartile of five-year average ROCE (2018-2022)\n",
      " for constituents as of December 31, 2022\n",
      " Earnings refers to net income Return on capital employed (ROCE) is         non-GAAP measure defined in the Appendix                                                                                                                                    ConocoPhillips\n",
      "\n",
      "Node 5:\n",
      "ConocoPhillips Remains the Must-Own E&P Company\n",
      "                      What You                                                                 Foundational                                                      A Compelling Returns\n",
      "                   Heard Today                                                                  Principles                                                       Focused 10-Year Plan\n",
      "                 We are committed to                                                                  9                                                              improving through timePeer leading ROCE\n",
      "            delivering superior returns                                                           Balance Sheet\n",
      "                    on and of capital                                                                 Strength\n",
      "                   through the cycles                                                                                                                    Top quartile ordinary dividend growth\n",
      "            We have adeep, durable                                                                   RETURNS                  S)                               >90% market cap' distributed\n",
      "                and diverse portfolio                                         InvestmentsDisciplined                   Peer-Leading\n",
      "                                                                                                                       Distributions\n",
      "                                                                                                                                                                  S35/BBL WTI FCF Breakeven?\n",
      "                                                                                                         ESG\n",
      "               We are progressing our                                                                Excellence\n",
      "         2050 Net-Zero ambition and                                                                                                                             6% CFO CAGR, ~11% FCF CAGR\n",
      "   accelerating our 2030 GHG emissionsintensity reduction target                    Deliver Superior Returns\n",
      "                                                                                                                                                                  Unhedged for price upside\n",
      "                                                                                             Through Cycles\n",
      " \"Market cap of ~S1Z1B at March 31 2023 close. ~Average over the next ten years:\n",
      " CAGRs calculated from FY2024 at S60/BBL WTI Cash from operations (CFO); free cash flow (FCF) and return on capital employed (ROCE) are non-GAAP measures defined in the appendix                     ConocoPhillips\n",
      "\n",
      "Node 6:\n",
      "Permian Drives Free Cash Flow in Lower 48\n",
      "                                ~7%                                              ~50%                                              S35/BBL\n",
      "                               10-Year Production CAGR                          Reinvestment Ratel                            Program Cost of Supply\n",
      "  1,500                     Production (MBOED)                                            $12                                FCF (SB)\n",
      "                                              Growing to Plateau                                   ~S45B FCF\n",
      "                                                        in the 2nd Decade                 $10    Generated Over\n",
      "  1,200                                                                                        the Next 10 Yearsat $60/BBL WTI\n",
      "                                                                                           S8\n",
      "    900\n",
      "                                                                                           $6\n",
      "    600\n",
      "    300                                                                                    S2\n",
      "                                                                                           $0\n",
      "                  2023E               2024-2028              2029-2032                                  2023E                 2024-2028              2029-2032\n",
      "                                        Average                Average                                                         Average                Average\n",
      "                                                        S60/BBL WTI Mid-Cycle Planning Price S8O/BBL WTI Upside Sensitivity\n",
      "                                               Top-Tier Permian Position, Growing into the Next Decade\n",
      "\"Over the next 10 years at S60/bbl.\n",
      " Reinvestment rate and free cash flow (FCF) are non-GAAP measures defined in the Appendix                                                                   ConocoPhillips\n",
      "\n",
      "Node 7:\n",
      "ConocoPhillips Remains the Must-Own E&P Company\n",
      "                           The Macro                                       What You'Il Hear Today\n",
      "                         Oil Price (S/BBL WTI)\n",
      "    120                                                                        We are committed to\n",
      "                                                                           delivering superior returns\n",
      "    100                                                                          on and of capital\n",
      "                                                                                through the cycles\n",
      "     80\n",
      "     60                                                                     We have a deep, durable\n",
      "                                                S6O/BBL WTI                   and diverse portfolio\n",
      "                                                       Mid-Cycle\n",
      "     40                                             Planning Price\n",
      "                                                                             We are progressing our\n",
      "     20                                                                  2050 Net-Zero ambition and\n",
      "                                                                    accelerating our 2030 GHG emissionsintensity reduction target\n",
      "        2019           2021            2023           2024+\n",
      "                                                                                                                   ConocoPhillips\n",
      "\n",
      "Node 8:\n",
      "Low Capital Intensity Production Growth\n",
      "         Material Low Cost of Supply Resource Base                                                                Capital-Efficient Production Growth\n",
      "                                                                                                                    Underpins Growing Distribution Capacity\n",
      "                        Leveraging Existing Infrastructure\n",
      "        S50            S30/BBL                                                                     Production Mixl\n",
      "                               Average                                                             Oil   60%      NGL ~5%        North American Gas            5%    International Gas         30%\n",
      "        S40           Cost ofSupply                                                                      1,200\n",
      "   3 S30                                                                                              1    000\n",
      "   1 S20                                                                                                   800\n",
      "                                                                                                           600\n",
      "    58                                                                                                     400\n",
      "    E   810                                                                                                200\n",
      "                                                                                                                            2023E                     2024-2028                   2029-2032\n",
      "          So                                                                                                                                           Average                     Average\n",
      "                                                                                                              LNG          Surmont         Montney          Conventional International        Alaska\n",
      "                                                Resource (BBOE)\n",
      "              LNG          Surmont         Montney          Conventional International  Alaska  4% CAGR at ~40% Reinvestment Rate\n",
      "                                                                                                 Over the Next 10 Years at $60/BBL WTI\n",
      "'Average product mix from 2023-2032, oil includes bitumen;\n",
      "Reinvestment rate   non-GAAP measure defined in the Appendix                                                                                                                            ConocoPhillips\n",
      "\n",
      "Full response:\n",
      "ConocoPhillips' capex/EUR in the Delaware Basin is lower compared to its competitors.\n"
     ]
    }
   ],
   "source": [
    "# Query the base agent\n",
    "base_response = base_agent.chat(\n",
    "    \"How does the Conoco Phillips capex/EUR in the delaware basin compare against other competitors?\"\n",
    ")\n",
    "print(str(base_response))\n",
    "\n",
    "# Print source nodes if available\n",
    "if hasattr(base_response, 'source_nodes') and base_response.source_nodes:\n",
    "    print(\"\\nSource nodes found:\")\n",
    "    for i, node in enumerate(base_response.source_nodes):\n",
    "        print(f\"\\nNode {i}:\")\n",
    "        print(node.get_content(metadata_mode=\"llm\"))\n",
    "else:\n",
    "    print(\"\\nNo source nodes found in the response.\")\n",
    "\n",
    "# Print the full response\n",
    "print(\"\\nFull response:\")\n",
    "print(base_response)"
   ]
  },
  {
   "cell_type": "code",
   "execution_count": null,
   "id": "5fea2b52",
   "metadata": {},
   "outputs": [],
   "source": []
  }
 ],
 "metadata": {
  "kernelspec": {
   "display_name": "medium",
   "language": "python",
   "name": "python3"
  },
  "language_info": {
   "codemirror_mode": {
    "name": "ipython",
    "version": 3
   },
   "file_extension": ".py",
   "mimetype": "text/x-python",
   "name": "python",
   "nbconvert_exporter": "python",
   "pygments_lexer": "ipython3",
   "version": "3.9.19"
  }
 },
 "nbformat": 4,
 "nbformat_minor": 5
}
